{
 "cells": [
  {
   "cell_type": "markdown",
   "id": "502da59b",
   "metadata": {},
   "source": [
    "# Network analysis with Wikipedia\n",
    "\n",
    "[Brian C. Keegan](https://www.brianckeegan.com)  \n",
    "Department of Information Science, University of Colorado Boulder  \n",
    "MIT License"
   ]
  },
  {
   "cell_type": "markdown",
   "id": "a13b4c41",
   "metadata": {},
   "source": [
    "## Learning objectives\n",
    "\n",
    "* The affordances of the MediaWiki software powering Wikipedia\n",
    "* How different interactions with Wikipedia generate different relational data\n",
    "* Retrieving data from Wikipedia's API using the `wikifunctions` wrapper\n",
    "* Converting relational data into networks using `networkx`\n",
    "* Understanding the differences between directed, undirected, and bipartite networks"
   ]
  },
  {
   "cell_type": "markdown",
   "id": "61013bdf",
   "metadata": {},
   "source": [
    "## Loading libraries\n",
    "\n",
    "Some of the basic data analysis libraries."
   ]
  },
  {
   "cell_type": "code",
   "execution_count": 1,
   "id": "636a013d",
   "metadata": {},
   "outputs": [],
   "source": [
    "# Basic data libraries\n",
    "import numpy as np\n",
    "import pandas as pd\n",
    "import json\n",
    "\n",
    "from datetime import datetime, timezone\n",
    "\n",
    "# Data visualization libraries\n",
    "%matplotlib inline\n",
    "import matplotlib.pyplot as plt\n",
    "import seaborn as sb\n",
    "\n",
    "# Network analysis library\n",
    "import networkx as nx"
   ]
  },
  {
   "cell_type": "markdown",
   "id": "dae828cd",
   "metadata": {},
   "source": [
    "We are also going to use [`wikifunctions`](https://github.com/brianckeegan/wikifunctions/), a lightweight wrapper for retreiving data from the [MediaWiki API](https://www.mediawiki.org/wiki/API:Main_page) that powers projects like Wikipedia. This is just a plain Python script file, there's nothing to `pip` or `conda` install: just download \"wikifunction.py\" and put it in the same directory as your notebook."
   ]
  },
  {
   "cell_type": "code",
   "execution_count": 2,
   "id": "fd85010e",
   "metadata": {},
   "outputs": [],
   "source": [
    "import wikifunctions as wf"
   ]
  },
  {
   "cell_type": "markdown",
   "id": "b80b54cf",
   "metadata": {},
   "source": [
    "We will also need to use Gephi to visualize the networks."
   ]
  },
  {
   "cell_type": "markdown",
   "id": "03335306",
   "metadata": {},
   "source": [
    "## Basics of Wikipedia\n",
    "\n",
    "Wikipedia is the \"free encyclopedia that anyone can edit\" and [was created in January 2021](https://en.wikipedia.org/wiki/History_of_Wikipedia).\n",
    "\n",
    "Most of us experience Wikipedia by going to an article, like [Elizabeth II](https://en.wikipedia.org/wiki/Elizabeth_II). But there is a lot of data and interactions that go on behind the scenes for which we can access interesting data. Wikipedia articles have corresponding pages for discussions, policies, templates, and images. There are also Wikipedias available in other languages and links connecting articles across languages.\n",
    "\n",
    "* **Revision histories** Wikipedia preserves the content and metadata about every<sup>*</sup> revision to an article going back to late 2001. Revision history data before then was mostly lost during a server migration. \n",
    "   * `get_all_page_revisions`, `get_page_revisions_from_date`\n",
    "* **Article content** The current and previous content of articles can be retrieved from the API.\n",
    "  * Current article content\n",
    "    * `get_page_content`, `get_page_raw_content`, `get_page_outlinks`, `get_page_externallinks`\n",
    "  * Previous revision content\n",
    "    * `get_revision_content`, `get_revision_raw_content`, `get_revision_outlinks`, `get_revision_externallinks`\n",
    "* **Interlanguage links** The versions of other Wikipedia articles about a topic can be accessed via inter-language links.\n",
    "  * `get_interlanguage_links`\n",
    "* **Pageviews** The number of times a Wikipedia page is accessed by a user, bot, and/or spider is available since July 2015.\n",
    "  * `get_pageviews`\n",
    "* **Categories** Wikipedia articles are organized into a hierarcy of categories by topic.\n",
    "  * `get_category_memberships`, `get_category_subcategories`, `get_category_members`\n",
    "* **Users** Metadata and the contribution histories of users\n",
    "  * `get_user_info`, `get_user_contributions`"
   ]
  },
  {
   "cell_type": "markdown",
   "id": "e6031ec1",
   "metadata": {},
   "source": [
    "## Retrieving data from Wikipedia"
   ]
  },
  {
   "cell_type": "code",
   "execution_count": 3,
   "id": "347c2e12",
   "metadata": {},
   "outputs": [],
   "source": [
    "title = 'Elizabeth II'"
   ]
  },
  {
   "cell_type": "markdown",
   "id": "e57556f9",
   "metadata": {},
   "source": [
    "### Content\n",
    "\n",
    "`get_page_content` returns a (relatively) clean string that is the content from the body of the article."
   ]
  },
  {
   "cell_type": "code",
   "execution_count": 4,
   "id": "56e59764",
   "metadata": {},
   "outputs": [
    {
     "name": "stdout",
     "output_type": "stream",
     "text": [
      "\n",
      "\n",
      "Elizabeth II (Elizabeth Alexandra Mary; 21 April 1926 – 8 September 2022) was Queen of the United Kingdom and other Commonwealth realms from 6 February 1952 until her death in 2022. She was queen regnant of 32 sovereign states during her lifetime and was head of state of 15 realms at the time of her death. Her reign of 70 years and 214 days was the longest of any British monarch and the longest verified reign of any female head of state in history.\n",
      "\n",
      "Elizabeth was born in Mayfair, London, as the first child of the Duke and Duchess of York (later King George VI and Queen Elizabeth The Queen Mother). Her father acceded to the throne in 1936 upon the abdication of his brother Edward VIII, making the ten-year-old Princess Elizabeth the heir presumptive. She was educated privately at home and began to undertake public duties during the Second World War, serving in the Auxiliary Territorial Service. In November 1947, she married Philip Mountbatten, a former prince of Greece and Denmark, and\n"
     ]
    }
   ],
   "source": [
    "current_content = wf.get_page_content(title)\n",
    "print(current_content[:1000])"
   ]
  },
  {
   "cell_type": "markdown",
   "id": "f5f5ea41",
   "metadata": {},
   "source": [
    "If you want to parse the raw HTML content of the entire article, use `get_page_raw_content`."
   ]
  },
  {
   "cell_type": "code",
   "execution_count": 16,
   "id": "c3b721a7",
   "metadata": {},
   "outputs": [
    {
     "data": {
      "text/plain": [
       "'ghter-in-law <a href=\"/wiki/Diana,_Princess_of_Wales\" title=\"Diana, Princess of Wales\">Diana</a>—support for the monarchy in the United Kingdom remained consistently high throughout her lifetime, as did her personal popularity. Elizabeth died aged 96 at <a href=\"/wiki/Balmoral_Castle\" title=\"Balmoral Castle\">Balmoral Castle</a>, Aberdeenshire, in September 2022 and was succeeded by her eldest son, Charles&#160;III.\\n</p>\\n\\n<h2><span class=\"mw-headline\" id=\"Early_life\">Early life</span></h2>\\n<style data-mw-deduplicate=\"TemplateStyles:r1096954695/mw-parser-output/.tmulti\">.mw-parser-output .tmulti .multiimageinner{display:flex;flex-direction:column}.mw-parser-output .tmulti .trow{display:flex;flex-direction:row;clear:left;flex-wrap:wrap;width:100%;box-sizing:border-box}.mw-parser-output .tmulti .tsingle{margin:1px;float:left}.mw-parser-output .tmulti .theader{clear:both;font-weight:bold;text-align:center;align-self:center;background-color:transparent;width:100%}.mw-parser-output .tmulti .t'"
      ]
     },
     "execution_count": 16,
     "metadata": {},
     "output_type": "execute_result"
    }
   ],
   "source": [
    "raw_current_content = wf.get_page_raw_content(title)\n",
    "raw_current_content[20000:21000]"
   ]
  },
  {
   "cell_type": "markdown",
   "id": "41851fdd",
   "metadata": {},
   "source": [
    "Get the content of the revision in the past with `get_revision_content`. Revision [562359](https://en.wikipedia.org/w/index.php?title=Elizabeth_II&oldid=562359) corresponds to an edit from December 15, 2002."
   ]
  },
  {
   "cell_type": "code",
   "execution_count": 17,
   "id": "135e5241",
   "metadata": {},
   "outputs": [
    {
     "name": "stdout",
     "output_type": "stream",
     "text": [
      "Elizabeth Alexandra Mary Windsor or Elizabeth II (born April 21, 1926) is the Queen and head of state of the United Kingdom (and several other Commonwealth countries) since February 6, 1952. Her coronation took place in Westminster Abbey on June 2, 1953.\r\n",
      "\n",
      "\n",
      "\n",
      "Born in London, England, by Caesarean section she is the elder daughter of George VI (then Duke of York) and Elizabeth Bowes-Lyon, her younger sister being the late Princess Margaret. Elizabeth succeeded to the throne following the death of her father in 1952.\r\n",
      "\n",
      "She married Prince Philip of Greece and Denmark in November 1947. They have four children.\r\n",
      "\n",
      "Despite a succession of controversies about the rest of the royal family, particularly throughout the 1980s and 1990s (including wide reportage of Prince Philip's propensity for verbal gaffes, and the marital difficulties of her children), Queen Elizabeth remains a remarkably uncontroversial and widely respected figure. She has managed to reflect the expectations of the British publ\n"
     ]
    }
   ],
   "source": [
    "previous_content = wf.get_revision_content(562359)\n",
    "print(previous_content[:1000])"
   ]
  },
  {
   "cell_type": "markdown",
   "id": "7c044244",
   "metadata": {},
   "source": [
    "You can get the raw markup for this revision with `get_revision_raw_content`."
   ]
  },
  {
   "cell_type": "code",
   "execution_count": 19,
   "id": "2d7679b6",
   "metadata": {},
   "outputs": [
    {
     "data": {
      "text/plain": [
       "'ad?wpDestFile=Elizabeth_ii.jpg\" class=\"new\" title=\"File:Elizabeth ii.jpg\">File:Elizabeth ii.jpg</a>\\r\\n</td>\\r\\n</tr>\\r\\n</tbody></table>\\r\\n<p>Born in <a href=\"/wiki/London\" title=\"London\">London</a>, <a href=\"/wiki/England\" title=\"England\">England</a>, by <a href=\"/wiki/Caesarean_section\" title=\"Caesarean section\">Caesarean section</a> she is the elder daughter of <a href=\"/wiki/George_VI_of_the_United_Kingdom\" class=\"mw-redirect\" title=\"George VI of the United Kingdom\">George VI</a> (then Duke of York) and <a href=\"/wiki/Queen_Mother\" class=\"mw-redirect\" title=\"Queen Mother\">Elizabeth Bowes-Lyon</a>, her younger sister being the late <a href=\"/wiki/Princess_Margaret\" class=\"mw-redirect\" title=\"Princess Margaret\">Princess Margaret</a>. Elizabeth succeeded to the throne following the death of her father in <a href=\"/wiki/1952\" title=\"1952\">1952</a>.\\r\\n</p><p>She married <a href=\"/wiki/Prince_Philip\" class=\"mw-redirect\" title=\"Prince Philip\">Prince Philip of Greece and Denmark</a> in <a href=\"/'"
      ]
     },
     "execution_count": 19,
     "metadata": {},
     "output_type": "execute_result"
    }
   ],
   "source": [
    "raw_previous_content = wf.get_revision_raw_content(562359)\n",
    "raw_previous_content[1000:2000]"
   ]
  },
  {
   "cell_type": "markdown",
   "id": "ebb9732e",
   "metadata": {},
   "source": [
    "To get only the hyperlinks present in the body of an article."
   ]
  },
  {
   "cell_type": "code",
   "execution_count": 24,
   "id": "cb13b57a",
   "metadata": {},
   "outputs": [
    {
     "data": {
      "text/plain": [
       "['Queen of the United Kingdom',\n",
       " 'Commonwealth realm',\n",
       " 'Death and state funeral of Elizabeth II',\n",
       " 'Queen regnant',\n",
       " 'List of sovereign states headed by Elizabeth II',\n",
       " 'Head of state',\n",
       " 'List of monarchs in Britain by length of reign',\n",
       " 'List of longest-reigning monarchs',\n",
       " 'Mayfair',\n",
       " 'King George VI']"
      ]
     },
     "execution_count": 24,
     "metadata": {},
     "output_type": "execute_result"
    }
   ],
   "source": [
    "current_hyperlinks = wf.get_page_outlinks(title)\n",
    "current_hyperlinks[:10]"
   ]
  },
  {
   "cell_type": "code",
   "execution_count": 26,
   "id": "499d1ff5",
   "metadata": {},
   "outputs": [
    {
     "data": {
      "text/plain": [
       "['April 21',\n",
       " '1926',\n",
       " 'Queen (monarch)',\n",
       " 'Head of state',\n",
       " 'United Kingdom',\n",
       " 'The Commonwealth',\n",
       " 'February 6',\n",
       " '1952',\n",
       " 'Westminster Abbey',\n",
       " 'June 2']"
      ]
     },
     "execution_count": 26,
     "metadata": {},
     "output_type": "execute_result"
    }
   ],
   "source": [
    "previous_hyperlinks = wf.get_revision_outlinks(562359)\n",
    "previous_hyperlinks[:10]"
   ]
  },
  {
   "cell_type": "markdown",
   "id": "12b8ae0e",
   "metadata": {},
   "source": [
    "To get the external links (generally citations) in the body of an article."
   ]
  },
  {
   "cell_type": "code",
   "execution_count": 27,
   "id": "d5f801c6",
   "metadata": {},
   "outputs": [
    {
     "data": {
      "text/plain": [
       "['https://www.thegazette.co.uk/London/issue/33153/page/1',\n",
       " 'https://www.royal.uk/her-majesty-the-queen?ch=5',\n",
       " 'https://web.archive.org/web/20160507231247/https://www.royal.uk/her-majesty-the-queen?ch=5',\n",
       " 'https://www.royal.uk/queen-elizabeth-queen-mother',\n",
       " 'https://web.archive.org/web/20160507183311/https://www.royal.uk/queen-elizabeth-queen-mother',\n",
       " 'https://www.bbc.co.uk/archive/childrens-hour--princess-elizabeth/z7wm92p',\n",
       " 'https://web.archive.org/web/20191127053143/https://www.bbc.co.uk/archive/childrens-hour--princess-elizabeth/z7wm92p',\n",
       " 'https://web.archive.org/web/20100328170101/http://www.royal.gov.uk/HMTheQueen/Publiclife/EarlyPublicLife/Earlypubliclife.aspx',\n",
       " 'http://www.royal.gov.uk/HMTheQueen/Publiclife/EarlyPublicLife/Earlypubliclife.aspx',\n",
       " 'https://www.thegazette.co.uk/London/issue/36973/supplement/1315']"
      ]
     },
     "execution_count": 27,
     "metadata": {},
     "output_type": "execute_result"
    }
   ],
   "source": [
    "current_externallinks = wf.get_page_externallinks(title)\n",
    "current_externallinks[:10]"
   ]
  },
  {
   "cell_type": "code",
   "execution_count": 28,
   "id": "a00bd8c7",
   "metadata": {},
   "outputs": [
    {
     "data": {
      "text/plain": [
       "['http://www.royal.gov.uk/output/Page412.asp']"
      ]
     },
     "execution_count": 28,
     "metadata": {},
     "output_type": "execute_result"
    }
   ],
   "source": [
    "previous_externallinks = wf.get_revision_externallinks(562359)\n",
    "previous_externallinks[:10]"
   ]
  },
  {
   "cell_type": "markdown",
   "id": "8fd501df",
   "metadata": {},
   "source": [
    "There are several kinds of relationships here:\n",
    "* **article-to-article** Hyperlinks of articles linking to other articles\n",
    "* **article-to-website** Links of articles to other websites"
   ]
  },
  {
   "cell_type": "markdown",
   "id": "8984c267",
   "metadata": {},
   "source": [
    "### Revision histories\n",
    "\n",
    "The history of all the changes made to an article can be retrieved as a DataFrame. Most articles have a dozens to hundreds of revisions, but some articles (particularly about prominent people) may have tens of thousands of revisions that requires a few seconds to retrieve.\n",
    "\n",
    "Each row of data is meta-data about a specific revision to the article:\n",
    "* **revid** The revision ID\n",
    "* **parentid** The previous revision ID that was modified by this revision\n",
    "* **user** The username of the editor, this includes IP addresses of unregistered editors\n",
    "* **anon** Whether the editor was a registered editor (NaN) or an unregistered editor (True)\n",
    "* **userid** A numeric indicator of the user account. User is more helpful since unregistered editors are all 0 userids.\n",
    "* **timestamp** The timestamp at UTC-0 of when the revision was made\n",
    "* **size** The length of the article's content in bytes\n",
    "* **sha1** A hash of the revision's content that is helpful for comparing whether two revisions are identical\n",
    "* **comment** An optional comment left by the editor explaining what they're changing and why\n",
    "* **Xhidden** Rarely-used fields if the article content or comment is suppressed, generally for severe policy violations\n",
    "* **page** Name of the article\n",
    "* **date** YYYY-MM-DD formatted date of the revision\n",
    "* **diff** Change in the size of the article from the previous revision\n",
    "* **lag** Time elapsed (in seconds) since the previous revision\n",
    "* **age** Time elapsed (in days) since the creation of the article\n",
    "\n",
    "There are several relationships present within this data:\n",
    "* **editor-to-article** What editors contributed to what articles?\n",
    "* **revid-to-revid** What revisions modified what previous revisions?\n",
    "* **sha1-to-sha1** What revisions are identical to what other revisions?"
   ]
  },
  {
   "cell_type": "code",
   "execution_count": 20,
   "id": "8aa386e8",
   "metadata": {},
   "outputs": [
    {
     "data": {
      "text/html": [
       "<div>\n",
       "<style scoped>\n",
       "    .dataframe tbody tr th:only-of-type {\n",
       "        vertical-align: middle;\n",
       "    }\n",
       "\n",
       "    .dataframe tbody tr th {\n",
       "        vertical-align: top;\n",
       "    }\n",
       "\n",
       "    .dataframe thead th {\n",
       "        text-align: right;\n",
       "    }\n",
       "</style>\n",
       "<table border=\"1\" class=\"dataframe\">\n",
       "  <thead>\n",
       "    <tr style=\"text-align: right;\">\n",
       "      <th></th>\n",
       "      <th>revid</th>\n",
       "      <th>parentid</th>\n",
       "      <th>user</th>\n",
       "      <th>anon</th>\n",
       "      <th>userid</th>\n",
       "      <th>timestamp</th>\n",
       "      <th>size</th>\n",
       "      <th>sha1</th>\n",
       "      <th>comment</th>\n",
       "      <th>sha1hidden</th>\n",
       "      <th>commenthidden</th>\n",
       "      <th>page</th>\n",
       "      <th>date</th>\n",
       "      <th>diff</th>\n",
       "      <th>lag</th>\n",
       "      <th>age</th>\n",
       "    </tr>\n",
       "  </thead>\n",
       "  <tbody>\n",
       "    <tr>\n",
       "      <th>0</th>\n",
       "      <td>249061</td>\n",
       "      <td>0</td>\n",
       "      <td>61.9.128.xxx</td>\n",
       "      <td>True</td>\n",
       "      <td>0</td>\n",
       "      <td>2001-11-16 03:24:33+00:00</td>\n",
       "      <td>780</td>\n",
       "      <td>cc5c02a29b5990567cd26323ddd2d3886d14a8fc</td>\n",
       "      <td>mention she's also head of state of several ot...</td>\n",
       "      <td>NaN</td>\n",
       "      <td>NaN</td>\n",
       "      <td>Elizabeth II</td>\n",
       "      <td>2001-11-16</td>\n",
       "      <td>NaN</td>\n",
       "      <td>NaN</td>\n",
       "      <td>0.000000</td>\n",
       "    </tr>\n",
       "    <tr>\n",
       "      <th>1</th>\n",
       "      <td>249062</td>\n",
       "      <td>249061</td>\n",
       "      <td>Berek</td>\n",
       "      <td>NaN</td>\n",
       "      <td>79</td>\n",
       "      <td>2001-12-14 19:38:09+00:00</td>\n",
       "      <td>840</td>\n",
       "      <td>4d3c00474e85d92a90a4b5509230515c7b4ef84d</td>\n",
       "      <td>Mentioned QE2's coronation - anyone know the e...</td>\n",
       "      <td>NaN</td>\n",
       "      <td>NaN</td>\n",
       "      <td>Elizabeth II</td>\n",
       "      <td>2001-12-14</td>\n",
       "      <td>60.0</td>\n",
       "      <td>2477616.0</td>\n",
       "      <td>28.676111</td>\n",
       "    </tr>\n",
       "    <tr>\n",
       "      <th>2</th>\n",
       "      <td>249063</td>\n",
       "      <td>249062</td>\n",
       "      <td>Paul Drye</td>\n",
       "      <td>NaN</td>\n",
       "      <td>6</td>\n",
       "      <td>2001-12-14 23:06:32+00:00</td>\n",
       "      <td>856</td>\n",
       "      <td>00775574260757f567eabbcb282f5cf9abb868e7</td>\n",
       "      <td>June 2nd, 1953</td>\n",
       "      <td>NaN</td>\n",
       "      <td>NaN</td>\n",
       "      <td>Elizabeth II</td>\n",
       "      <td>2001-12-14</td>\n",
       "      <td>16.0</td>\n",
       "      <td>12503.0</td>\n",
       "      <td>28.820822</td>\n",
       "    </tr>\n",
       "    <tr>\n",
       "      <th>3</th>\n",
       "      <td>19902</td>\n",
       "      <td>249063</td>\n",
       "      <td>Conversion script</td>\n",
       "      <td>NaN</td>\n",
       "      <td>1226483</td>\n",
       "      <td>2002-02-25 15:51:15+00:00</td>\n",
       "      <td>935</td>\n",
       "      <td>9e42502da98959d456a0cc6c65c61d76bfda9042</td>\n",
       "      <td>Automated conversion</td>\n",
       "      <td>NaN</td>\n",
       "      <td>NaN</td>\n",
       "      <td>Elizabeth II</td>\n",
       "      <td>2002-02-25</td>\n",
       "      <td>79.0</td>\n",
       "      <td>6281083.0</td>\n",
       "      <td>101.518542</td>\n",
       "    </tr>\n",
       "    <tr>\n",
       "      <th>4</th>\n",
       "      <td>19962</td>\n",
       "      <td>19902</td>\n",
       "      <td>62.253.64.7</td>\n",
       "      <td>True</td>\n",
       "      <td>0</td>\n",
       "      <td>2002-02-28 02:55:35+00:00</td>\n",
       "      <td>943</td>\n",
       "      <td>a90261cb092d27801923f3777d481d71b4299511</td>\n",
       "      <td>*</td>\n",
       "      <td>NaN</td>\n",
       "      <td>NaN</td>\n",
       "      <td>Elizabeth II</td>\n",
       "      <td>2002-02-28</td>\n",
       "      <td>8.0</td>\n",
       "      <td>212660.0</td>\n",
       "      <td>103.979884</td>\n",
       "    </tr>\n",
       "  </tbody>\n",
       "</table>\n",
       "</div>"
      ],
      "text/plain": [
       "    revid  parentid               user  anon   userid  \\\n",
       "0  249061         0       61.9.128.xxx  True        0   \n",
       "1  249062    249061              Berek   NaN       79   \n",
       "2  249063    249062          Paul Drye   NaN        6   \n",
       "3   19902    249063  Conversion script   NaN  1226483   \n",
       "4   19962     19902        62.253.64.7  True        0   \n",
       "\n",
       "                  timestamp  size                                      sha1  \\\n",
       "0 2001-11-16 03:24:33+00:00   780  cc5c02a29b5990567cd26323ddd2d3886d14a8fc   \n",
       "1 2001-12-14 19:38:09+00:00   840  4d3c00474e85d92a90a4b5509230515c7b4ef84d   \n",
       "2 2001-12-14 23:06:32+00:00   856  00775574260757f567eabbcb282f5cf9abb868e7   \n",
       "3 2002-02-25 15:51:15+00:00   935  9e42502da98959d456a0cc6c65c61d76bfda9042   \n",
       "4 2002-02-28 02:55:35+00:00   943  a90261cb092d27801923f3777d481d71b4299511   \n",
       "\n",
       "                                             comment sha1hidden commenthidden  \\\n",
       "0  mention she's also head of state of several ot...        NaN           NaN   \n",
       "1  Mentioned QE2's coronation - anyone know the e...        NaN           NaN   \n",
       "2                                     June 2nd, 1953        NaN           NaN   \n",
       "3                               Automated conversion        NaN           NaN   \n",
       "4                                                  *        NaN           NaN   \n",
       "\n",
       "           page        date  diff        lag         age  \n",
       "0  Elizabeth II  2001-11-16   NaN        NaN    0.000000  \n",
       "1  Elizabeth II  2001-12-14  60.0  2477616.0   28.676111  \n",
       "2  Elizabeth II  2001-12-14  16.0    12503.0   28.820822  \n",
       "3  Elizabeth II  2002-02-25  79.0  6281083.0  101.518542  \n",
       "4  Elizabeth II  2002-02-28   8.0   212660.0  103.979884  "
      ]
     },
     "execution_count": 20,
     "metadata": {},
     "output_type": "execute_result"
    }
   ],
   "source": [
    "revision_history = wf.get_all_page_revisions(title)\n",
    "revision_history.head()"
   ]
  },
  {
   "cell_type": "markdown",
   "id": "4b67eb4b",
   "metadata": {},
   "source": [
    "Let's make a simple visualization of the number of monthly revisions over time."
   ]
  },
  {
   "cell_type": "code",
   "execution_count": 121,
   "id": "b547d162",
   "metadata": {},
   "outputs": [
    {
     "data": {
      "text/plain": [
       "<matplotlib.lines.Line2D at 0x17628b820>"
      ]
     },
     "execution_count": 121,
     "metadata": {},
     "output_type": "execute_result"
    },
    {
     "data": {
      "image/png": "[encoded data removed]",
      "text/plain": [
       "<Figure size 640x480 with 1 Axes>"
      ]
     },
     "metadata": {},
     "output_type": "display_data"
    }
   ],
   "source": [
    "monthly_revisions = revision_history.groupby(pd.Grouper(key='timestamp',freq='1M')).agg({'revid':'nunique'})['revid']\n",
    "\n",
    "ax = monthly_revisions.plot()\n",
    "ax.set_ylabel('Revisions')\n",
    "ax.set_title('Monthly revisions to \"Elizabeth II\"')\n",
    "ax.axvline(pd.Timestamp('2022-09-08'),lw=.5,c='r',ls='--')"
   ]
  },
  {
   "cell_type": "markdown",
   "id": "6429ac6c",
   "metadata": {},
   "source": [
    "Or the changing length of the article based on the average article size in each month."
   ]
  },
  {
   "cell_type": "code",
   "execution_count": 120,
   "id": "3b4e5d1b",
   "metadata": {},
   "outputs": [
    {
     "data": {
      "text/plain": [
       "<matplotlib.lines.Line2D at 0x175726250>"
      ]
     },
     "execution_count": 120,
     "metadata": {},
     "output_type": "execute_result"
    },
    {
     "data": {
      "image/png": "[encoded data removed]",
      "text/plain": [
       "<Figure size 640x480 with 1 Axes>"
      ]
     },
     "metadata": {},
     "output_type": "display_data"
    }
   ],
   "source": [
    "monthly_revisions = revision_history.groupby(pd.Grouper(key='timestamp',freq='1M')).agg({'size':'mean'})['size']\n",
    "\n",
    "ax = monthly_revisions.plot()\n",
    "ax.set_ylabel('Size (bytes)')\n",
    "ax.set_title('Monthly article size on \"Elizabeth II\"')\n",
    "ax.axvline(pd.Timestamp('2022-09-08'),lw=.5,c='r',ls='--')"
   ]
  },
  {
   "cell_type": "markdown",
   "id": "5b3f2b52",
   "metadata": {},
   "source": [
    "### Categories\n",
    "\n",
    "Get the categories of which an article is a member."
   ]
  },
  {
   "cell_type": "code",
   "execution_count": 21,
   "id": "a77f6ec1",
   "metadata": {},
   "outputs": [
    {
     "data": {
      "text/plain": [
       "['Category:1926 births',\n",
       " 'Category:2022 deaths',\n",
       " 'Category:20th-century British monarchs',\n",
       " 'Category:20th-century British women',\n",
       " 'Category:21st-century British monarchs',\n",
       " 'Category:21st-century British women',\n",
       " 'Category:Auxiliary Territorial Service officers',\n",
       " 'Category:British Anglicans',\n",
       " 'Category:British Presbyterians',\n",
       " 'Category:British philanthropists',\n",
       " 'Category:British princesses',\n",
       " 'Category:British racehorse owners and breeders',\n",
       " 'Category:British women in World War II',\n",
       " \"Category:Burials at St George's Chapel, Windsor Castle\",\n",
       " 'Category:Daughters of emperors',\n",
       " 'Category:Daughters of kings',\n",
       " 'Category:Deaths in Scotland',\n",
       " 'Category:Dethroned monarchs',\n",
       " 'Category:Duchesses of Edinburgh',\n",
       " 'Category:Elizabeth II',\n",
       " 'Category:Heads of state of Antigua and Barbuda',\n",
       " 'Category:Heads of state of Australia',\n",
       " 'Category:Heads of state of Barbados',\n",
       " 'Category:Heads of state of Belize',\n",
       " 'Category:Heads of state of Canada',\n",
       " 'Category:Heads of state of Fiji',\n",
       " 'Category:Heads of state of Ghana',\n",
       " 'Category:Heads of state of Grenada',\n",
       " 'Category:Heads of state of Guyana',\n",
       " 'Category:Heads of state of Jamaica',\n",
       " 'Category:Heads of state of Kenya',\n",
       " 'Category:Heads of state of Malawi',\n",
       " 'Category:Heads of state of Malta',\n",
       " 'Category:Heads of state of Mauritius',\n",
       " 'Category:Heads of state of New Zealand',\n",
       " 'Category:Heads of state of Nigeria',\n",
       " 'Category:Heads of state of Pakistan',\n",
       " 'Category:Heads of state of Papua New Guinea',\n",
       " 'Category:Heads of state of Saint Kitts and Nevis',\n",
       " 'Category:Heads of state of Saint Lucia',\n",
       " 'Category:Heads of state of Saint Vincent and the Grenadines',\n",
       " 'Category:Heads of state of Sierra Leone',\n",
       " 'Category:Heads of state of Tanganyika',\n",
       " 'Category:Heads of state of Trinidad and Tobago',\n",
       " 'Category:Heads of state of Tuvalu',\n",
       " 'Category:Heads of state of Uganda',\n",
       " 'Category:Heads of state of the Bahamas',\n",
       " 'Category:Heads of state of the Gambia',\n",
       " 'Category:Heads of state of the Solomon Islands',\n",
       " 'Category:Heads of the Commonwealth',\n",
       " 'Category:Heirs to the British throne',\n",
       " 'Category:Honorary air commodores',\n",
       " 'Category:House of Windsor',\n",
       " 'Category:Jewellery collectors',\n",
       " 'Category:Lord High Admirals of the United Kingdom',\n",
       " 'Category:Monarchs of Ceylon',\n",
       " 'Category:Monarchs of South Africa',\n",
       " 'Category:Monarchs of the Isle of Man',\n",
       " 'Category:Monarchs of the United Kingdom',\n",
       " 'Category:People from Mayfair',\n",
       " 'Category:People named in the Paradise Papers',\n",
       " 'Category:Queens regnant in the British Isles',\n",
       " 'Category:Time Person of the Year',\n",
       " 'Category:Women in the Canadian armed services']"
      ]
     },
     "execution_count": 21,
     "metadata": {},
     "output_type": "execute_result"
    }
   ],
   "source": [
    "category_members = wf.get_category_memberships(title)\n",
    "category_members"
   ]
  },
  {
   "cell_type": "markdown",
   "id": "99fb43d5",
   "metadata": {},
   "source": [
    "Get the members of a category. These can be recrusively fetched to an arbitrary depth (which could take a really long time!) by changing the depth parameter from 0 (only members of current category), to 1 (current categories and members of subcategories), *etc*."
   ]
  },
  {
   "cell_type": "code",
   "execution_count": 23,
   "id": "0c037cc2",
   "metadata": {},
   "outputs": [
    {
     "data": {
      "text/plain": [
       "['List of heirs to the British throne',\n",
       " 'Charles III',\n",
       " 'Edward VIII',\n",
       " 'Prince Edward, Duke of York and Albany',\n",
       " 'Elizabeth II',\n",
       " 'Ernest Augustus, King of Hanover',\n",
       " 'Frederick, Prince of Wales',\n",
       " 'Prince Frederick, Duke of York and Albany',\n",
       " 'George I of Great Britain',\n",
       " 'George II of Great Britain',\n",
       " 'George III',\n",
       " 'George IV',\n",
       " 'George V',\n",
       " 'George VI',\n",
       " 'Sophia of Hanover',\n",
       " 'Victoria, Princess Royal',\n",
       " 'William, Prince of Wales']"
      ]
     },
     "execution_count": 23,
     "metadata": {},
     "output_type": "execute_result"
    }
   ],
   "source": [
    "wf.get_category_members('Category:Heirs to the British throne',depth=0)"
   ]
  },
  {
   "cell_type": "markdown",
   "id": "b4c00c37",
   "metadata": {},
   "source": [
    "There are several kinds of relationships here:\n",
    "* **article-to-category** What categories is an article a member of?\n",
    "* **category-to-article** What articles are included in a category?"
   ]
  },
  {
   "cell_type": "markdown",
   "id": "95166e27",
   "metadata": {},
   "source": [
    "### Pageviews\n",
    "\n",
    "Get the pageviews since July 2015 about an article."
   ]
  },
  {
   "cell_type": "code",
   "execution_count": 29,
   "id": "df095357",
   "metadata": {},
   "outputs": [
    {
     "data": {
      "text/plain": [
       "timestamp\n",
       "2015-07-01    17717\n",
       "2015-07-02    16529\n",
       "2015-07-03    16534\n",
       "2015-07-04    17353\n",
       "2015-07-05    26460\n",
       "Name: views, dtype: int64"
      ]
     },
     "execution_count": 29,
     "metadata": {},
     "output_type": "execute_result"
    }
   ],
   "source": [
    "pageviews = wf.get_pageviews(title)\n",
    "pageviews.head()"
   ]
  },
  {
   "cell_type": "code",
   "execution_count": 125,
   "id": "06cd23ec",
   "metadata": {},
   "outputs": [
    {
     "data": {
      "text/plain": [
       "<matplotlib.lines.Line2D at 0x17611f5e0>"
      ]
     },
     "execution_count": 125,
     "metadata": {},
     "output_type": "execute_result"
    },
    {
     "data": {
      "image/png": "[encoded data removed]",
      "text/plain": [
       "<Figure size 640x480 with 1 Axes>"
      ]
     },
     "metadata": {},
     "output_type": "display_data"
    }
   ],
   "source": [
    "ax = pageviews.plot()\n",
    "ax.set_yscale('log')\n",
    "ax.set_ylabel('Pageviews')\n",
    "ax.set_title('Daily pageviews to \"Elizabeth II\"')\n",
    "ax.axvline(pd.Timestamp('2022-09-08'),lw=.5,c='r',ls='--')"
   ]
  },
  {
   "cell_type": "markdown",
   "id": "099451b0",
   "metadata": {},
   "source": [
    "The pageview data can be correlated with other articles' pageview data to make article-to-article correlated consumption relations. For all the articles \"Elizabeth II\" links to, get their pageviews."
   ]
  },
  {
   "cell_type": "code",
   "execution_count": 127,
   "id": "73f05df5",
   "metadata": {},
   "outputs": [],
   "source": [
    "# Empty container to store data\n",
    "pageviews_d = {}\n",
    "\n",
    "# Get the pageviews for Elizabeth II\n",
    "pageviews_d[title] = wf.get_pageviews(title)\n",
    "\n",
    "# For each article among her unique neighbors\n",
    "for _article in set(current_hyperlinks):\n",
    "    \n",
    "    # Try to get their pageviews\n",
    "    try:\n",
    "        pageviews_d[_article] = wf.get_pageviews(_article)\n",
    "        \n",
    "    # Break the loop if I interrupt\n",
    "    except KeyboardInterrupt:\n",
    "        break\n",
    "    \n",
    "    # Print out articles with errors and continue to the next\n",
    "    except:\n",
    "        print(_article)\n",
    "        pass"
   ]
  },
  {
   "cell_type": "markdown",
   "id": "142b211c",
   "metadata": {},
   "source": [
    "Convert the `pageviews_d` dictionary of article pageview Series into a DataFrame and save this valuable data to disk."
   ]
  },
  {
   "cell_type": "code",
   "execution_count": 128,
   "id": "dffde29c",
   "metadata": {},
   "outputs": [
    {
     "data": {
      "text/html": [
       "<div>\n",
       "<style scoped>\n",
       "    .dataframe tbody tr th:only-of-type {\n",
       "        vertical-align: middle;\n",
       "    }\n",
       "\n",
       "    .dataframe tbody tr th {\n",
       "        vertical-align: top;\n",
       "    }\n",
       "\n",
       "    .dataframe thead th {\n",
       "        text-align: right;\n",
       "    }\n",
       "</style>\n",
       "<table border=\"1\" class=\"dataframe\">\n",
       "  <thead>\n",
       "    <tr style=\"text-align: right;\">\n",
       "      <th></th>\n",
       "      <th>Elizabeth II</th>\n",
       "      <th>Breach of confidence in English law</th>\n",
       "      <th>Sarah, Duchess of York</th>\n",
       "      <th>Union of South Africa</th>\n",
       "      <th>Treaty of Rome</th>\n",
       "      <th>Greek Orthodoxy</th>\n",
       "      <th>47th G7 summit</th>\n",
       "      <th>Operation Unicorn (Scotland)</th>\n",
       "      <th>Marcus Sarjeant</th>\n",
       "      <th>Colonel</th>\n",
       "      <th>...</th>\n",
       "      <th>Income tax</th>\n",
       "      <th>Paul Martin Sr.</th>\n",
       "      <th>Harry S. Truman</th>\n",
       "      <th>Children's Hour</th>\n",
       "      <th>Jean Chrétien</th>\n",
       "      <th>Apartheid</th>\n",
       "      <th>Tony Benn</th>\n",
       "      <th>Wedding of Princess Elizabeth and Philip Mountbatten</th>\n",
       "      <th>St Giles' Cathedral</th>\n",
       "      <th>John Paul II</th>\n",
       "    </tr>\n",
       "    <tr>\n",
       "      <th>timestamp</th>\n",
       "      <th></th>\n",
       "      <th></th>\n",
       "      <th></th>\n",
       "      <th></th>\n",
       "      <th></th>\n",
       "      <th></th>\n",
       "      <th></th>\n",
       "      <th></th>\n",
       "      <th></th>\n",
       "      <th></th>\n",
       "      <th></th>\n",
       "      <th></th>\n",
       "      <th></th>\n",
       "      <th></th>\n",
       "      <th></th>\n",
       "      <th></th>\n",
       "      <th></th>\n",
       "      <th></th>\n",
       "      <th></th>\n",
       "      <th></th>\n",
       "      <th></th>\n",
       "    </tr>\n",
       "  </thead>\n",
       "  <tbody>\n",
       "    <tr>\n",
       "      <th>2015-07-01</th>\n",
       "      <td>17717.0</td>\n",
       "      <td>26.0</td>\n",
       "      <td>2073.0</td>\n",
       "      <td>511</td>\n",
       "      <td>290.0</td>\n",
       "      <td>7.0</td>\n",
       "      <td>NaN</td>\n",
       "      <td>NaN</td>\n",
       "      <td>128</td>\n",
       "      <td>1073</td>\n",
       "      <td>...</td>\n",
       "      <td>1070.0</td>\n",
       "      <td>4.0</td>\n",
       "      <td>4044.0</td>\n",
       "      <td>23</td>\n",
       "      <td>729</td>\n",
       "      <td>3143</td>\n",
       "      <td>423.0</td>\n",
       "      <td>NaN</td>\n",
       "      <td>126.0</td>\n",
       "      <td>146.0</td>\n",
       "    </tr>\n",
       "    <tr>\n",
       "      <th>2015-07-02</th>\n",
       "      <td>16529.0</td>\n",
       "      <td>18.0</td>\n",
       "      <td>1552.0</td>\n",
       "      <td>503</td>\n",
       "      <td>302.0</td>\n",
       "      <td>11.0</td>\n",
       "      <td>NaN</td>\n",
       "      <td>NaN</td>\n",
       "      <td>100</td>\n",
       "      <td>1022</td>\n",
       "      <td>...</td>\n",
       "      <td>1143.0</td>\n",
       "      <td>3.0</td>\n",
       "      <td>4116.0</td>\n",
       "      <td>18</td>\n",
       "      <td>509</td>\n",
       "      <td>3625</td>\n",
       "      <td>410.0</td>\n",
       "      <td>NaN</td>\n",
       "      <td>135.0</td>\n",
       "      <td>138.0</td>\n",
       "    </tr>\n",
       "    <tr>\n",
       "      <th>2015-07-03</th>\n",
       "      <td>16534.0</td>\n",
       "      <td>22.0</td>\n",
       "      <td>1216.0</td>\n",
       "      <td>493</td>\n",
       "      <td>228.0</td>\n",
       "      <td>7.0</td>\n",
       "      <td>NaN</td>\n",
       "      <td>NaN</td>\n",
       "      <td>87</td>\n",
       "      <td>1010</td>\n",
       "      <td>...</td>\n",
       "      <td>892.0</td>\n",
       "      <td>0.0</td>\n",
       "      <td>3869.0</td>\n",
       "      <td>22</td>\n",
       "      <td>439</td>\n",
       "      <td>2895</td>\n",
       "      <td>382.0</td>\n",
       "      <td>NaN</td>\n",
       "      <td>109.0</td>\n",
       "      <td>123.0</td>\n",
       "    </tr>\n",
       "    <tr>\n",
       "      <th>2015-07-04</th>\n",
       "      <td>17353.0</td>\n",
       "      <td>8.0</td>\n",
       "      <td>1251.0</td>\n",
       "      <td>484</td>\n",
       "      <td>193.0</td>\n",
       "      <td>7.0</td>\n",
       "      <td>NaN</td>\n",
       "      <td>NaN</td>\n",
       "      <td>68</td>\n",
       "      <td>947</td>\n",
       "      <td>...</td>\n",
       "      <td>818.0</td>\n",
       "      <td>2.0</td>\n",
       "      <td>4575.0</td>\n",
       "      <td>22</td>\n",
       "      <td>371</td>\n",
       "      <td>2315</td>\n",
       "      <td>381.0</td>\n",
       "      <td>NaN</td>\n",
       "      <td>151.0</td>\n",
       "      <td>175.0</td>\n",
       "    </tr>\n",
       "    <tr>\n",
       "      <th>2015-07-05</th>\n",
       "      <td>26460.0</td>\n",
       "      <td>15.0</td>\n",
       "      <td>2106.0</td>\n",
       "      <td>532</td>\n",
       "      <td>325.0</td>\n",
       "      <td>9.0</td>\n",
       "      <td>NaN</td>\n",
       "      <td>NaN</td>\n",
       "      <td>75</td>\n",
       "      <td>1000</td>\n",
       "      <td>...</td>\n",
       "      <td>800.0</td>\n",
       "      <td>2.0</td>\n",
       "      <td>5502.0</td>\n",
       "      <td>24</td>\n",
       "      <td>391</td>\n",
       "      <td>2755</td>\n",
       "      <td>513.0</td>\n",
       "      <td>NaN</td>\n",
       "      <td>165.0</td>\n",
       "      <td>179.0</td>\n",
       "    </tr>\n",
       "  </tbody>\n",
       "</table>\n",
       "<p>5 rows × 538 columns</p>\n",
       "</div>"
      ],
      "text/plain": [
       "            Elizabeth II  Breach of confidence in English law  \\\n",
       "timestamp                                                       \n",
       "2015-07-01       17717.0                                 26.0   \n",
       "2015-07-02       16529.0                                 18.0   \n",
       "2015-07-03       16534.0                                 22.0   \n",
       "2015-07-04       17353.0                                  8.0   \n",
       "2015-07-05       26460.0                                 15.0   \n",
       "\n",
       "            Sarah, Duchess of York  Union of South Africa  Treaty of Rome  \\\n",
       "timestamp                                                                   \n",
       "2015-07-01                  2073.0                    511           290.0   \n",
       "2015-07-02                  1552.0                    503           302.0   \n",
       "2015-07-03                  1216.0                    493           228.0   \n",
       "2015-07-04                  1251.0                    484           193.0   \n",
       "2015-07-05                  2106.0                    532           325.0   \n",
       "\n",
       "            Greek Orthodoxy  47th G7 summit  Operation Unicorn (Scotland)  \\\n",
       "timestamp                                                                   \n",
       "2015-07-01              7.0             NaN                           NaN   \n",
       "2015-07-02             11.0             NaN                           NaN   \n",
       "2015-07-03              7.0             NaN                           NaN   \n",
       "2015-07-04              7.0             NaN                           NaN   \n",
       "2015-07-05              9.0             NaN                           NaN   \n",
       "\n",
       "            Marcus Sarjeant  Colonel  ...  Income tax  Paul Martin Sr.  \\\n",
       "timestamp                             ...                                \n",
       "2015-07-01              128     1073  ...      1070.0              4.0   \n",
       "2015-07-02              100     1022  ...      1143.0              3.0   \n",
       "2015-07-03               87     1010  ...       892.0              0.0   \n",
       "2015-07-04               68      947  ...       818.0              2.0   \n",
       "2015-07-05               75     1000  ...       800.0              2.0   \n",
       "\n",
       "            Harry S. Truman  Children's Hour  Jean Chrétien  Apartheid  \\\n",
       "timestamp                                                                \n",
       "2015-07-01           4044.0               23            729       3143   \n",
       "2015-07-02           4116.0               18            509       3625   \n",
       "2015-07-03           3869.0               22            439       2895   \n",
       "2015-07-04           4575.0               22            371       2315   \n",
       "2015-07-05           5502.0               24            391       2755   \n",
       "\n",
       "            Tony Benn  Wedding of Princess Elizabeth and Philip Mountbatten  \\\n",
       "timestamp                                                                     \n",
       "2015-07-01      423.0                                                NaN      \n",
       "2015-07-02      410.0                                                NaN      \n",
       "2015-07-03      382.0                                                NaN      \n",
       "2015-07-04      381.0                                                NaN      \n",
       "2015-07-05      513.0                                                NaN      \n",
       "\n",
       "            St Giles' Cathedral  John Paul II  \n",
       "timestamp                                      \n",
       "2015-07-01                126.0         146.0  \n",
       "2015-07-02                135.0         138.0  \n",
       "2015-07-03                109.0         123.0  \n",
       "2015-07-04                151.0         175.0  \n",
       "2015-07-05                165.0         179.0  \n",
       "\n",
       "[5 rows x 538 columns]"
      ]
     },
     "execution_count": 128,
     "metadata": {},
     "output_type": "execute_result"
    }
   ],
   "source": [
    "pageviews_df = pd.DataFrame(pageviews_d)\n",
    "\n",
    "pageviews_df.to_csv('pageviews.csv',encoding='utf8')\n",
    "\n",
    "pageviews_df.head()"
   ]
  },
  {
   "cell_type": "markdown",
   "id": "7b435ec7",
   "metadata": {},
   "source": [
    "Compute the correlations among the article pageviews."
   ]
  },
  {
   "cell_type": "code",
   "execution_count": 138,
   "id": "4e5ba51c",
   "metadata": {},
   "outputs": [
    {
     "data": {
      "text/html": [
       "<div>\n",
       "<style scoped>\n",
       "    .dataframe tbody tr th:only-of-type {\n",
       "        vertical-align: middle;\n",
       "    }\n",
       "\n",
       "    .dataframe tbody tr th {\n",
       "        vertical-align: top;\n",
       "    }\n",
       "\n",
       "    .dataframe thead th {\n",
       "        text-align: right;\n",
       "    }\n",
       "</style>\n",
       "<table border=\"1\" class=\"dataframe\">\n",
       "  <thead>\n",
       "    <tr style=\"text-align: right;\">\n",
       "      <th></th>\n",
       "      <th>Elizabeth II</th>\n",
       "      <th>Breach of confidence in English law</th>\n",
       "      <th>Sarah, Duchess of York</th>\n",
       "      <th>Union of South Africa</th>\n",
       "      <th>Treaty of Rome</th>\n",
       "      <th>Greek Orthodoxy</th>\n",
       "      <th>47th G7 summit</th>\n",
       "      <th>Operation Unicorn (Scotland)</th>\n",
       "      <th>Marcus Sarjeant</th>\n",
       "      <th>Colonel</th>\n",
       "      <th>...</th>\n",
       "      <th>Income tax</th>\n",
       "      <th>Paul Martin Sr.</th>\n",
       "      <th>Harry S. Truman</th>\n",
       "      <th>Children's Hour</th>\n",
       "      <th>Jean Chrétien</th>\n",
       "      <th>Apartheid</th>\n",
       "      <th>Tony Benn</th>\n",
       "      <th>Wedding of Princess Elizabeth and Philip Mountbatten</th>\n",
       "      <th>St Giles' Cathedral</th>\n",
       "      <th>John Paul II</th>\n",
       "    </tr>\n",
       "  </thead>\n",
       "  <tbody>\n",
       "    <tr>\n",
       "      <th>Elizabeth II</th>\n",
       "      <td>1.000000</td>\n",
       "      <td>-0.020604</td>\n",
       "      <td>0.379386</td>\n",
       "      <td>0.394985</td>\n",
       "      <td>-0.021017</td>\n",
       "      <td>0.247119</td>\n",
       "      <td>-0.009952</td>\n",
       "      <td>0.986548</td>\n",
       "      <td>0.261922</td>\n",
       "      <td>-0.008238</td>\n",
       "      <td>...</td>\n",
       "      <td>-0.079504</td>\n",
       "      <td>0.227787</td>\n",
       "      <td>0.033420</td>\n",
       "      <td>0.571386</td>\n",
       "      <td>0.144833</td>\n",
       "      <td>0.089541</td>\n",
       "      <td>0.003691</td>\n",
       "      <td>0.590825</td>\n",
       "      <td>0.282462</td>\n",
       "      <td>0.002000</td>\n",
       "    </tr>\n",
       "    <tr>\n",
       "      <th>Breach of confidence in English law</th>\n",
       "      <td>-0.020604</td>\n",
       "      <td>1.000000</td>\n",
       "      <td>0.036518</td>\n",
       "      <td>-0.044654</td>\n",
       "      <td>0.189763</td>\n",
       "      <td>-0.043742</td>\n",
       "      <td>0.001924</td>\n",
       "      <td>-0.023543</td>\n",
       "      <td>-0.060427</td>\n",
       "      <td>0.141954</td>\n",
       "      <td>...</td>\n",
       "      <td>0.252806</td>\n",
       "      <td>0.044482</td>\n",
       "      <td>0.066317</td>\n",
       "      <td>-0.030401</td>\n",
       "      <td>0.025455</td>\n",
       "      <td>0.131803</td>\n",
       "      <td>0.044561</td>\n",
       "      <td>0.037595</td>\n",
       "      <td>-0.026825</td>\n",
       "      <td>0.058137</td>\n",
       "    </tr>\n",
       "    <tr>\n",
       "      <th>Sarah, Duchess of York</th>\n",
       "      <td>0.379386</td>\n",
       "      <td>0.036518</td>\n",
       "      <td>1.000000</td>\n",
       "      <td>0.246447</td>\n",
       "      <td>-0.015619</td>\n",
       "      <td>0.164445</td>\n",
       "      <td>-0.039501</td>\n",
       "      <td>0.400446</td>\n",
       "      <td>0.165671</td>\n",
       "      <td>-0.003359</td>\n",
       "      <td>...</td>\n",
       "      <td>-0.054020</td>\n",
       "      <td>0.115269</td>\n",
       "      <td>0.009000</td>\n",
       "      <td>0.336034</td>\n",
       "      <td>0.041613</td>\n",
       "      <td>0.087123</td>\n",
       "      <td>-0.007702</td>\n",
       "      <td>0.495429</td>\n",
       "      <td>0.258435</td>\n",
       "      <td>0.041705</td>\n",
       "    </tr>\n",
       "    <tr>\n",
       "      <th>Union of South Africa</th>\n",
       "      <td>0.394985</td>\n",
       "      <td>-0.044654</td>\n",
       "      <td>0.246447</td>\n",
       "      <td>1.000000</td>\n",
       "      <td>-0.125363</td>\n",
       "      <td>0.073453</td>\n",
       "      <td>-0.053226</td>\n",
       "      <td>0.783944</td>\n",
       "      <td>0.170662</td>\n",
       "      <td>-0.046522</td>\n",
       "      <td>...</td>\n",
       "      <td>-0.157370</td>\n",
       "      <td>0.388664</td>\n",
       "      <td>-0.006159</td>\n",
       "      <td>0.458489</td>\n",
       "      <td>0.080182</td>\n",
       "      <td>0.451367</td>\n",
       "      <td>0.010316</td>\n",
       "      <td>0.301974</td>\n",
       "      <td>0.218879</td>\n",
       "      <td>0.113534</td>\n",
       "    </tr>\n",
       "    <tr>\n",
       "      <th>Treaty of Rome</th>\n",
       "      <td>-0.021017</td>\n",
       "      <td>0.189763</td>\n",
       "      <td>-0.015619</td>\n",
       "      <td>-0.125363</td>\n",
       "      <td>1.000000</td>\n",
       "      <td>-0.013331</td>\n",
       "      <td>-0.006096</td>\n",
       "      <td>-0.034808</td>\n",
       "      <td>-0.023377</td>\n",
       "      <td>0.070414</td>\n",
       "      <td>...</td>\n",
       "      <td>0.238922</td>\n",
       "      <td>-0.173719</td>\n",
       "      <td>0.046612</td>\n",
       "      <td>-0.086544</td>\n",
       "      <td>-0.004953</td>\n",
       "      <td>-0.012942</td>\n",
       "      <td>0.077499</td>\n",
       "      <td>0.001322</td>\n",
       "      <td>-0.018801</td>\n",
       "      <td>-0.064745</td>\n",
       "    </tr>\n",
       "    <tr>\n",
       "      <th>...</th>\n",
       "      <td>...</td>\n",
       "      <td>...</td>\n",
       "      <td>...</td>\n",
       "      <td>...</td>\n",
       "      <td>...</td>\n",
       "      <td>...</td>\n",
       "      <td>...</td>\n",
       "      <td>...</td>\n",
       "      <td>...</td>\n",
       "      <td>...</td>\n",
       "      <td>...</td>\n",
       "      <td>...</td>\n",
       "      <td>...</td>\n",
       "      <td>...</td>\n",
       "      <td>...</td>\n",
       "      <td>...</td>\n",
       "      <td>...</td>\n",
       "      <td>...</td>\n",
       "      <td>...</td>\n",
       "      <td>...</td>\n",
       "      <td>...</td>\n",
       "    </tr>\n",
       "    <tr>\n",
       "      <th>Apartheid</th>\n",
       "      <td>0.089541</td>\n",
       "      <td>0.131803</td>\n",
       "      <td>0.087123</td>\n",
       "      <td>0.451367</td>\n",
       "      <td>-0.012942</td>\n",
       "      <td>-0.018788</td>\n",
       "      <td>0.014141</td>\n",
       "      <td>0.446748</td>\n",
       "      <td>0.029059</td>\n",
       "      <td>-0.003594</td>\n",
       "      <td>...</td>\n",
       "      <td>-0.026660</td>\n",
       "      <td>0.141833</td>\n",
       "      <td>0.075172</td>\n",
       "      <td>0.118773</td>\n",
       "      <td>0.028946</td>\n",
       "      <td>1.000000</td>\n",
       "      <td>0.000685</td>\n",
       "      <td>0.135928</td>\n",
       "      <td>0.047463</td>\n",
       "      <td>0.013134</td>\n",
       "    </tr>\n",
       "    <tr>\n",
       "      <th>Tony Benn</th>\n",
       "      <td>0.003691</td>\n",
       "      <td>0.044561</td>\n",
       "      <td>-0.007702</td>\n",
       "      <td>0.010316</td>\n",
       "      <td>0.077499</td>\n",
       "      <td>0.009955</td>\n",
       "      <td>0.012725</td>\n",
       "      <td>0.112020</td>\n",
       "      <td>0.010466</td>\n",
       "      <td>0.042501</td>\n",
       "      <td>...</td>\n",
       "      <td>0.015376</td>\n",
       "      <td>-0.001034</td>\n",
       "      <td>-0.005860</td>\n",
       "      <td>0.023337</td>\n",
       "      <td>0.004866</td>\n",
       "      <td>0.000685</td>\n",
       "      <td>1.000000</td>\n",
       "      <td>0.015107</td>\n",
       "      <td>0.007896</td>\n",
       "      <td>0.003096</td>\n",
       "    </tr>\n",
       "    <tr>\n",
       "      <th>Wedding of Princess Elizabeth and Philip Mountbatten</th>\n",
       "      <td>0.590825</td>\n",
       "      <td>0.037595</td>\n",
       "      <td>0.495429</td>\n",
       "      <td>0.301974</td>\n",
       "      <td>0.001322</td>\n",
       "      <td>0.604510</td>\n",
       "      <td>-0.014403</td>\n",
       "      <td>0.796538</td>\n",
       "      <td>0.320308</td>\n",
       "      <td>0.005619</td>\n",
       "      <td>...</td>\n",
       "      <td>-0.092157</td>\n",
       "      <td>0.295246</td>\n",
       "      <td>0.105642</td>\n",
       "      <td>0.470615</td>\n",
       "      <td>0.174595</td>\n",
       "      <td>0.135928</td>\n",
       "      <td>0.015107</td>\n",
       "      <td>1.000000</td>\n",
       "      <td>0.225665</td>\n",
       "      <td>0.013265</td>\n",
       "    </tr>\n",
       "    <tr>\n",
       "      <th>St Giles' Cathedral</th>\n",
       "      <td>0.282462</td>\n",
       "      <td>-0.026825</td>\n",
       "      <td>0.258435</td>\n",
       "      <td>0.218879</td>\n",
       "      <td>-0.018801</td>\n",
       "      <td>0.132754</td>\n",
       "      <td>-0.010274</td>\n",
       "      <td>0.233714</td>\n",
       "      <td>0.160467</td>\n",
       "      <td>-0.004538</td>\n",
       "      <td>...</td>\n",
       "      <td>-0.037518</td>\n",
       "      <td>0.087698</td>\n",
       "      <td>-0.007438</td>\n",
       "      <td>0.280096</td>\n",
       "      <td>0.038386</td>\n",
       "      <td>0.047463</td>\n",
       "      <td>0.007896</td>\n",
       "      <td>0.225665</td>\n",
       "      <td>1.000000</td>\n",
       "      <td>-0.016651</td>\n",
       "    </tr>\n",
       "    <tr>\n",
       "      <th>John Paul II</th>\n",
       "      <td>0.002000</td>\n",
       "      <td>0.058137</td>\n",
       "      <td>0.041705</td>\n",
       "      <td>0.113534</td>\n",
       "      <td>-0.064745</td>\n",
       "      <td>-0.015255</td>\n",
       "      <td>-0.017248</td>\n",
       "      <td>-0.043510</td>\n",
       "      <td>-0.025245</td>\n",
       "      <td>-0.022854</td>\n",
       "      <td>...</td>\n",
       "      <td>-0.101988</td>\n",
       "      <td>0.161679</td>\n",
       "      <td>0.001159</td>\n",
       "      <td>0.082038</td>\n",
       "      <td>-0.014695</td>\n",
       "      <td>0.013134</td>\n",
       "      <td>0.003096</td>\n",
       "      <td>0.013265</td>\n",
       "      <td>-0.016651</td>\n",
       "      <td>1.000000</td>\n",
       "    </tr>\n",
       "  </tbody>\n",
       "</table>\n",
       "<p>538 rows × 538 columns</p>\n",
       "</div>"
      ],
      "text/plain": [
       "                                                    Elizabeth II  \\\n",
       "Elizabeth II                                            1.000000   \n",
       "Breach of confidence in English law                    -0.020604   \n",
       "Sarah, Duchess of York                                  0.379386   \n",
       "Union of South Africa                                   0.394985   \n",
       "Treaty of Rome                                         -0.021017   \n",
       "...                                                          ...   \n",
       "Apartheid                                               0.089541   \n",
       "Tony Benn                                               0.003691   \n",
       "Wedding of Princess Elizabeth and Philip Mountb...      0.590825   \n",
       "St Giles' Cathedral                                     0.282462   \n",
       "John Paul II                                            0.002000   \n",
       "\n",
       "                                                    Breach of confidence in English law  \\\n",
       "Elizabeth II                                                                  -0.020604   \n",
       "Breach of confidence in English law                                            1.000000   \n",
       "Sarah, Duchess of York                                                         0.036518   \n",
       "Union of South Africa                                                         -0.044654   \n",
       "Treaty of Rome                                                                 0.189763   \n",
       "...                                                                                 ...   \n",
       "Apartheid                                                                      0.131803   \n",
       "Tony Benn                                                                      0.044561   \n",
       "Wedding of Princess Elizabeth and Philip Mountb...                             0.037595   \n",
       "St Giles' Cathedral                                                           -0.026825   \n",
       "John Paul II                                                                   0.058137   \n",
       "\n",
       "                                                    Sarah, Duchess of York  \\\n",
       "Elizabeth II                                                      0.379386   \n",
       "Breach of confidence in English law                               0.036518   \n",
       "Sarah, Duchess of York                                            1.000000   \n",
       "Union of South Africa                                             0.246447   \n",
       "Treaty of Rome                                                   -0.015619   \n",
       "...                                                                    ...   \n",
       "Apartheid                                                         0.087123   \n",
       "Tony Benn                                                        -0.007702   \n",
       "Wedding of Princess Elizabeth and Philip Mountb...                0.495429   \n",
       "St Giles' Cathedral                                               0.258435   \n",
       "John Paul II                                                      0.041705   \n",
       "\n",
       "                                                    Union of South Africa  \\\n",
       "Elizabeth II                                                     0.394985   \n",
       "Breach of confidence in English law                             -0.044654   \n",
       "Sarah, Duchess of York                                           0.246447   \n",
       "Union of South Africa                                            1.000000   \n",
       "Treaty of Rome                                                  -0.125363   \n",
       "...                                                                   ...   \n",
       "Apartheid                                                        0.451367   \n",
       "Tony Benn                                                        0.010316   \n",
       "Wedding of Princess Elizabeth and Philip Mountb...               0.301974   \n",
       "St Giles' Cathedral                                              0.218879   \n",
       "John Paul II                                                     0.113534   \n",
       "\n",
       "                                                    Treaty of Rome  \\\n",
       "Elizabeth II                                             -0.021017   \n",
       "Breach of confidence in English law                       0.189763   \n",
       "Sarah, Duchess of York                                   -0.015619   \n",
       "Union of South Africa                                    -0.125363   \n",
       "Treaty of Rome                                            1.000000   \n",
       "...                                                            ...   \n",
       "Apartheid                                                -0.012942   \n",
       "Tony Benn                                                 0.077499   \n",
       "Wedding of Princess Elizabeth and Philip Mountb...        0.001322   \n",
       "St Giles' Cathedral                                      -0.018801   \n",
       "John Paul II                                             -0.064745   \n",
       "\n",
       "                                                    Greek Orthodoxy  \\\n",
       "Elizabeth II                                               0.247119   \n",
       "Breach of confidence in English law                       -0.043742   \n",
       "Sarah, Duchess of York                                     0.164445   \n",
       "Union of South Africa                                      0.073453   \n",
       "Treaty of Rome                                            -0.013331   \n",
       "...                                                             ...   \n",
       "Apartheid                                                 -0.018788   \n",
       "Tony Benn                                                  0.009955   \n",
       "Wedding of Princess Elizabeth and Philip Mountb...         0.604510   \n",
       "St Giles' Cathedral                                        0.132754   \n",
       "John Paul II                                              -0.015255   \n",
       "\n",
       "                                                    47th G7 summit  \\\n",
       "Elizabeth II                                             -0.009952   \n",
       "Breach of confidence in English law                       0.001924   \n",
       "Sarah, Duchess of York                                   -0.039501   \n",
       "Union of South Africa                                    -0.053226   \n",
       "Treaty of Rome                                           -0.006096   \n",
       "...                                                            ...   \n",
       "Apartheid                                                 0.014141   \n",
       "Tony Benn                                                 0.012725   \n",
       "Wedding of Princess Elizabeth and Philip Mountb...       -0.014403   \n",
       "St Giles' Cathedral                                      -0.010274   \n",
       "John Paul II                                             -0.017248   \n",
       "\n",
       "                                                    Operation Unicorn (Scotland)  \\\n",
       "Elizabeth II                                                            0.986548   \n",
       "Breach of confidence in English law                                    -0.023543   \n",
       "Sarah, Duchess of York                                                  0.400446   \n",
       "Union of South Africa                                                   0.783944   \n",
       "Treaty of Rome                                                         -0.034808   \n",
       "...                                                                          ...   \n",
       "Apartheid                                                               0.446748   \n",
       "Tony Benn                                                               0.112020   \n",
       "Wedding of Princess Elizabeth and Philip Mountb...                      0.796538   \n",
       "St Giles' Cathedral                                                     0.233714   \n",
       "John Paul II                                                           -0.043510   \n",
       "\n",
       "                                                    Marcus Sarjeant   Colonel  \\\n",
       "Elizabeth II                                               0.261922 -0.008238   \n",
       "Breach of confidence in English law                       -0.060427  0.141954   \n",
       "Sarah, Duchess of York                                     0.165671 -0.003359   \n",
       "Union of South Africa                                      0.170662 -0.046522   \n",
       "Treaty of Rome                                            -0.023377  0.070414   \n",
       "...                                                             ...       ...   \n",
       "Apartheid                                                  0.029059 -0.003594   \n",
       "Tony Benn                                                  0.010466  0.042501   \n",
       "Wedding of Princess Elizabeth and Philip Mountb...         0.320308  0.005619   \n",
       "St Giles' Cathedral                                        0.160467 -0.004538   \n",
       "John Paul II                                              -0.025245 -0.022854   \n",
       "\n",
       "                                                    ...  Income tax  \\\n",
       "Elizabeth II                                        ...   -0.079504   \n",
       "Breach of confidence in English law                 ...    0.252806   \n",
       "Sarah, Duchess of York                              ...   -0.054020   \n",
       "Union of South Africa                               ...   -0.157370   \n",
       "Treaty of Rome                                      ...    0.238922   \n",
       "...                                                 ...         ...   \n",
       "Apartheid                                           ...   -0.026660   \n",
       "Tony Benn                                           ...    0.015376   \n",
       "Wedding of Princess Elizabeth and Philip Mountb...  ...   -0.092157   \n",
       "St Giles' Cathedral                                 ...   -0.037518   \n",
       "John Paul II                                        ...   -0.101988   \n",
       "\n",
       "                                                    Paul Martin Sr.  \\\n",
       "Elizabeth II                                               0.227787   \n",
       "Breach of confidence in English law                        0.044482   \n",
       "Sarah, Duchess of York                                     0.115269   \n",
       "Union of South Africa                                      0.388664   \n",
       "Treaty of Rome                                            -0.173719   \n",
       "...                                                             ...   \n",
       "Apartheid                                                  0.141833   \n",
       "Tony Benn                                                 -0.001034   \n",
       "Wedding of Princess Elizabeth and Philip Mountb...         0.295246   \n",
       "St Giles' Cathedral                                        0.087698   \n",
       "John Paul II                                               0.161679   \n",
       "\n",
       "                                                    Harry S. Truman  \\\n",
       "Elizabeth II                                               0.033420   \n",
       "Breach of confidence in English law                        0.066317   \n",
       "Sarah, Duchess of York                                     0.009000   \n",
       "Union of South Africa                                     -0.006159   \n",
       "Treaty of Rome                                             0.046612   \n",
       "...                                                             ...   \n",
       "Apartheid                                                  0.075172   \n",
       "Tony Benn                                                 -0.005860   \n",
       "Wedding of Princess Elizabeth and Philip Mountb...         0.105642   \n",
       "St Giles' Cathedral                                       -0.007438   \n",
       "John Paul II                                               0.001159   \n",
       "\n",
       "                                                    Children's Hour  \\\n",
       "Elizabeth II                                               0.571386   \n",
       "Breach of confidence in English law                       -0.030401   \n",
       "Sarah, Duchess of York                                     0.336034   \n",
       "Union of South Africa                                      0.458489   \n",
       "Treaty of Rome                                            -0.086544   \n",
       "...                                                             ...   \n",
       "Apartheid                                                  0.118773   \n",
       "Tony Benn                                                  0.023337   \n",
       "Wedding of Princess Elizabeth and Philip Mountb...         0.470615   \n",
       "St Giles' Cathedral                                        0.280096   \n",
       "John Paul II                                               0.082038   \n",
       "\n",
       "                                                    Jean Chrétien  Apartheid  \\\n",
       "Elizabeth II                                             0.144833   0.089541   \n",
       "Breach of confidence in English law                      0.025455   0.131803   \n",
       "Sarah, Duchess of York                                   0.041613   0.087123   \n",
       "Union of South Africa                                    0.080182   0.451367   \n",
       "Treaty of Rome                                          -0.004953  -0.012942   \n",
       "...                                                           ...        ...   \n",
       "Apartheid                                                0.028946   1.000000   \n",
       "Tony Benn                                                0.004866   0.000685   \n",
       "Wedding of Princess Elizabeth and Philip Mountb...       0.174595   0.135928   \n",
       "St Giles' Cathedral                                      0.038386   0.047463   \n",
       "John Paul II                                            -0.014695   0.013134   \n",
       "\n",
       "                                                    Tony Benn  \\\n",
       "Elizabeth II                                         0.003691   \n",
       "Breach of confidence in English law                  0.044561   \n",
       "Sarah, Duchess of York                              -0.007702   \n",
       "Union of South Africa                                0.010316   \n",
       "Treaty of Rome                                       0.077499   \n",
       "...                                                       ...   \n",
       "Apartheid                                            0.000685   \n",
       "Tony Benn                                            1.000000   \n",
       "Wedding of Princess Elizabeth and Philip Mountb...   0.015107   \n",
       "St Giles' Cathedral                                  0.007896   \n",
       "John Paul II                                         0.003096   \n",
       "\n",
       "                                                    Wedding of Princess Elizabeth and Philip Mountbatten  \\\n",
       "Elizabeth II                                                                                 0.590825      \n",
       "Breach of confidence in English law                                                          0.037595      \n",
       "Sarah, Duchess of York                                                                       0.495429      \n",
       "Union of South Africa                                                                        0.301974      \n",
       "Treaty of Rome                                                                               0.001322      \n",
       "...                                                                                               ...      \n",
       "Apartheid                                                                                    0.135928      \n",
       "Tony Benn                                                                                    0.015107      \n",
       "Wedding of Princess Elizabeth and Philip Mountb...                                           1.000000      \n",
       "St Giles' Cathedral                                                                          0.225665      \n",
       "John Paul II                                                                                 0.013265      \n",
       "\n",
       "                                                    St Giles' Cathedral  \\\n",
       "Elizabeth II                                                   0.282462   \n",
       "Breach of confidence in English law                           -0.026825   \n",
       "Sarah, Duchess of York                                         0.258435   \n",
       "Union of South Africa                                          0.218879   \n",
       "Treaty of Rome                                                -0.018801   \n",
       "...                                                                 ...   \n",
       "Apartheid                                                      0.047463   \n",
       "Tony Benn                                                      0.007896   \n",
       "Wedding of Princess Elizabeth and Philip Mountb...             0.225665   \n",
       "St Giles' Cathedral                                            1.000000   \n",
       "John Paul II                                                  -0.016651   \n",
       "\n",
       "                                                    John Paul II  \n",
       "Elizabeth II                                            0.002000  \n",
       "Breach of confidence in English law                     0.058137  \n",
       "Sarah, Duchess of York                                  0.041705  \n",
       "Union of South Africa                                   0.113534  \n",
       "Treaty of Rome                                         -0.064745  \n",
       "...                                                          ...  \n",
       "Apartheid                                               0.013134  \n",
       "Tony Benn                                               0.003096  \n",
       "Wedding of Princess Elizabeth and Philip Mountb...      0.013265  \n",
       "St Giles' Cathedral                                    -0.016651  \n",
       "John Paul II                                            1.000000  \n",
       "\n",
       "[538 rows x 538 columns]"
      ]
     },
     "execution_count": 138,
     "metadata": {},
     "output_type": "execute_result"
    }
   ],
   "source": [
    "pv_corr = pageviews_df.corr()\n",
    "pv_corr"
   ]
  },
  {
   "cell_type": "markdown",
   "id": "eef1043c",
   "metadata": {},
   "source": [
    "These are symmetric correlations, just look at the top half of the matrix."
   ]
  },
  {
   "cell_type": "code",
   "execution_count": 145,
   "id": "77acdbf3",
   "metadata": {},
   "outputs": [
    {
     "data": {
      "text/plain": [
       "Duke of Edinburgh                                       Prince Edward, Duke of Edinburgh                          0.999506\n",
       "Death and funeral of Prince Philip, Duke of Edinburgh   Death and funeral of Mary of Teck                         0.997842\n",
       "Death and funeral of Alexandra of Denmark               Death and funeral of Mary of Teck                         0.997609\n",
       "United Kingdom's accession to the European Communities  Platinum Jubilee of Elizabeth II                          0.997490\n",
       "                                                        Republicanism in Britain                                  0.996920\n",
       "                                                        Philip Mountbatten                                        0.996188\n",
       "                                                        Coronation Oath                                           0.995963\n",
       "Head of the Commonwealth                                United Kingdom's accession to the European Communities    0.995816\n",
       "Operation Unicorn (Scotland)                            Queen of the United Kingdom                               0.994412\n",
       "United Kingdom's accession to the European Communities  Prince of Greece and Denmark                              0.994143\n",
       "dtype: float64"
      ]
     },
     "execution_count": 145,
     "metadata": {},
     "output_type": "execute_result"
    }
   ],
   "source": [
    "# https://stackoverflow.com/a/34418376/1574687\n",
    "corr_el = pv_corr.where(np.triu(np.ones(pv_corr.shape),1).astype(bool)).stack()\n",
    "corr_el.sort_values(ascending=False).head(10)"
   ]
  },
  {
   "cell_type": "markdown",
   "id": "e4abc06e",
   "metadata": {},
   "source": [
    "Some of these strong correlations are just from one of the time series being truncated/recent."
   ]
  },
  {
   "cell_type": "code",
   "execution_count": 148,
   "id": "8cc4c2d1",
   "metadata": {},
   "outputs": [
    {
     "data": {
      "text/plain": [
       "<Axes: xlabel='timestamp'>"
      ]
     },
     "execution_count": 148,
     "metadata": {},
     "output_type": "execute_result"
    },
    {
     "data": {
      "image/png": "[encoded data removed]",
      "text/plain": [
       "<Figure size 640x480 with 1 Axes>"
      ]
     },
     "metadata": {},
     "output_type": "display_data"
    }
   ],
   "source": [
    "pageviews_df[['Platinum Jubilee of Elizabeth II','Prince Edward, Duke of Edinburgh']].plot()"
   ]
  },
  {
   "cell_type": "markdown",
   "id": "e92f7f28",
   "metadata": {},
   "source": [
    "Other qualitative combinations can be interesting."
   ]
  },
  {
   "cell_type": "code",
   "execution_count": 151,
   "id": "1afe7916",
   "metadata": {},
   "outputs": [
    {
     "data": {
      "text/plain": [
       "<matplotlib.lines.Line2D at 0x179a05a90>"
      ]
     },
     "execution_count": 151,
     "metadata": {},
     "output_type": "execute_result"
    },
    {
     "data": {
      "image/png": "[encoded data removed]",
      "text/plain": [
       "<Figure size 640x480 with 1 Axes>"
      ]
     },
     "metadata": {},
     "output_type": "display_data"
    }
   ],
   "source": [
    "ax = pageviews_df[['Republicanism in Britain','Platinum Jubilee of Elizabeth II']].plot(logy=True)\n",
    "ax.axvline(pd.Timestamp('2022-09-08'),lw=.5,c='r',ls='--')"
   ]
  },
  {
   "cell_type": "markdown",
   "id": "5a5bc85a",
   "metadata": {},
   "source": [
    "## Converting relational data into networks"
   ]
  },
  {
   "cell_type": "markdown",
   "id": "f324fe80",
   "metadata": {},
   "source": [
    "### Directed network\n",
    "\n",
    "Elizabeth II has a bit too much activity to make it a good introduction. Let's make a network of all the hyperlinks from \"[Whitman College](https://en.wikipedia.org/wiki/Whitman_College)\" to its neighbors. This is a \"one-step ego network.\""
   ]
  },
  {
   "cell_type": "code",
   "execution_count": 33,
   "id": "1af42623",
   "metadata": {},
   "outputs": [
    {
     "data": {
      "text/plain": [
       "247"
      ]
     },
     "execution_count": 33,
     "metadata": {},
     "output_type": "execute_result"
    }
   ],
   "source": [
    "new_title = \"Whitman College\"\n",
    "\n",
    "# Make an empty dictionary to fill with data\n",
    "page_outlinks_d = dict()\n",
    "\n",
    "# Fill it with our primary article\n",
    "page_outlinks_d[new_title] = wf.get_page_outlinks(new_title)\n",
    "\n",
    "# Inspect\n",
    "len(page_outlinks_d[new_title])"
   ]
  },
  {
   "cell_type": "markdown",
   "id": "b888bfa0",
   "metadata": {},
   "source": [
    "Now for all these neighboring articles, get their outlinks. This is the \"two-step ego network.\""
   ]
  },
  {
   "cell_type": "code",
   "execution_count": 36,
   "id": "1d377850",
   "metadata": {},
   "outputs": [],
   "source": [
    "for _article in page_outlinks_d[new_title]:\n",
    "    \n",
    "    # Try to get the outlinks for the neighbor\n",
    "    try:\n",
    "        page_outlinks_d[_article] = wf.get_page_outlinks(_article)\n",
    "    \n",
    "    # Break the loop if I interrupt\n",
    "    except KeyboardInterrupt:\n",
    "        break\n",
    "    \n",
    "    # If there's an error print the article name and keep going\n",
    "    except:\n",
    "        print(\"Error on: {0}\".format(_article))\n",
    "        pass"
   ]
  },
  {
   "cell_type": "markdown",
   "id": "208301a7",
   "metadata": {},
   "source": [
    "We spent so much time getting this data, we should save it someplace safer than memory."
   ]
  },
  {
   "cell_type": "code",
   "execution_count": 37,
   "id": "75398b12",
   "metadata": {},
   "outputs": [],
   "source": [
    "with open('article_outlinks.json','w') as f:\n",
    "    json.dump(page_outlinks_d,f)"
   ]
  },
  {
   "cell_type": "markdown",
   "id": "3049eaa2",
   "metadata": {},
   "source": [
    "The `page_outlinks_d` dictionary is basically a \"adjacency list\": for a key, each element in the list of the corresponding value is a neighbor. We can turn this into a `networkx` DiGraph object that respects the direction of these ties."
   ]
  },
  {
   "cell_type": "code",
   "execution_count": 38,
   "id": "385ef51a",
   "metadata": {},
   "outputs": [],
   "source": [
    "# Start with an empty DiGraph object\n",
    "hyperlink_graph = nx.DiGraph()\n",
    "\n",
    "# For each article and its hyperlink neighbors\n",
    "for _article,_article_list in page_outlinks_d.items():\n",
    "    \n",
    "    # For each neighbor in the hyperlink neighbor\n",
    "    for _neighbor in _article_list:\n",
    "        \n",
    "        # Add a tie from the article to the neighbor\n",
    "        hyperlink_graph.add_edge(_article,_neighbor)"
   ]
  },
  {
   "cell_type": "markdown",
   "id": "856ff4db",
   "metadata": {},
   "source": [
    "Print out some basic statistics about the network."
   ]
  },
  {
   "cell_type": "code",
   "execution_count": 39,
   "id": "07f53a5a",
   "metadata": {},
   "outputs": [
    {
     "name": "stdout",
     "output_type": "stream",
     "text": [
      "23573\n",
      "30938\n"
     ]
    }
   ],
   "source": [
    "print(hyperlink_graph.number_of_nodes())\n",
    "print(hyperlink_graph.number_of_edges())"
   ]
  },
  {
   "cell_type": "markdown",
   "id": "1f0d2078",
   "metadata": {},
   "source": [
    "Maybe we only care about the links among the neighbors of the first step but not all the neighbors-of-neighbors. This is the \"one-and-a-half step ego network\" encompassing the links from Whitman College to its neighbors and the links among the neighbors."
   ]
  },
  {
   "cell_type": "code",
   "execution_count": 40,
   "id": "b0838e47",
   "metadata": {},
   "outputs": [
    {
     "name": "stdout",
     "output_type": "stream",
     "text": [
      "221\n",
      "584\n"
     ]
    }
   ],
   "source": [
    "hyperlink_subgraph = nx.subgraph(G = hyperlink_graph,nbunch=page_outlinks_d[new_title])\n",
    "\n",
    "print(hyperlink_subgraph.number_of_nodes())\n",
    "print(hyperlink_subgraph.number_of_edges())"
   ]
  },
  {
   "cell_type": "markdown",
   "id": "44c217bd",
   "metadata": {},
   "source": [
    "A classic and easy network metric is density: how many edges connecting nodes exist divided by how many edges could exist. In a directed network with no self-loops (nodes connecting to themselves), the maximum number of edges with $N$ nodes is $N(N-1)$ if every node connected to every other node except itself. So the density $d$ of a directed network with $M$ edges is: \n",
    "\n",
    "\\begin{equation}\n",
    "d_{directed} = \\frac{M}{N(N-1)}\n",
    "\\end{equation}\n",
    "\n",
    "Most real world networks are sparse, meaning their densities are low: typically below 0.1, or only 10% of the possible edges are present."
   ]
  },
  {
   "cell_type": "code",
   "execution_count": 105,
   "id": "5e3fc2ec",
   "metadata": {},
   "outputs": [
    {
     "data": {
      "text/plain": [
       "5.567765639487992e-05"
      ]
     },
     "execution_count": 105,
     "metadata": {},
     "output_type": "execute_result"
    }
   ],
   "source": [
    "# The full hyperlink network, somewhat misleading since neighbors neighbors aren't allowed to connect\n",
    "nx.density(hyperlink_graph)"
   ]
  },
  {
   "cell_type": "code",
   "execution_count": 103,
   "id": "9cc253ca",
   "metadata": {},
   "outputs": [
    {
     "data": {
      "text/plain": [
       "0.012011517893870834"
      ]
     },
     "execution_count": 103,
     "metadata": {},
     "output_type": "execute_result"
    }
   ],
   "source": [
    "# The subgraph of the only the neighbors who were allowed to connect\n",
    "nx.density(hyperlink_subgraph)"
   ]
  },
  {
   "cell_type": "markdown",
   "id": "55f223ad",
   "metadata": {},
   "source": [
    "Write out the graph file to GEXF format to visualize in Gephi."
   ]
  },
  {
   "cell_type": "code",
   "execution_count": 130,
   "id": "7fcfedd8",
   "metadata": {},
   "outputs": [],
   "source": [
    "nx.write_gexf(hyperlink_graph,'hyperlink_graph.gexf')"
   ]
  },
  {
   "cell_type": "code",
   "execution_count": 131,
   "id": "c4eff650",
   "metadata": {},
   "outputs": [],
   "source": [
    "nx.write_gexf(hyperlink_subgraph,'hyperlink_subgraph.gexf')"
   ]
  },
  {
   "cell_type": "markdown",
   "id": "be7d7100",
   "metadata": {},
   "source": [
    "### Bipartite network\n",
    "\n",
    "Let's explore how the editors to Whitman College overlap with the editors to Wikipedia articles listed on \"[Consortium of Liberal Arts Colleges](https://en.wikipedia.org/wiki/Consortium_of_Liberal_Arts_Colleges)\"."
   ]
  },
  {
   "cell_type": "code",
   "execution_count": 43,
   "id": "79a42603",
   "metadata": {},
   "outputs": [
    {
     "data": {
      "text/plain": [
       "['Nonprofit',\n",
       " 'Liberal arts colleges',\n",
       " 'Oberlin College',\n",
       " 'S. Frederick Starr',\n",
       " 'Albion College',\n",
       " 'Allegheny College',\n",
       " 'Alma College',\n",
       " 'Amherst College',\n",
       " 'Barnard College',\n",
       " 'Bates College',\n",
       " 'Beloit College',\n",
       " 'Bowdoin College',\n",
       " 'Bryn Mawr College',\n",
       " 'Bucknell University',\n",
       " 'Carleton College',\n",
       " 'Claremont McKenna College',\n",
       " 'Colby College',\n",
       " 'Colgate University',\n",
       " \"College of Saint Benedict and Saint John's University\",\n",
       " 'College of the Holy Cross',\n",
       " 'College of Wooster',\n",
       " 'Colorado College',\n",
       " 'Connecticut College',\n",
       " 'Davidson College',\n",
       " 'Denison University',\n",
       " 'DePauw University',\n",
       " 'Dickinson College',\n",
       " 'Earlham College',\n",
       " 'Franklin and Marshall College',\n",
       " 'Gettysburg College',\n",
       " 'Grinnell College',\n",
       " 'Hamilton College (New York)',\n",
       " 'Hampshire College',\n",
       " 'Harvey Mudd College',\n",
       " 'Haverford College',\n",
       " 'Hobart and William Smith Colleges',\n",
       " 'Hope College',\n",
       " 'Kalamazoo College',\n",
       " 'Kenyon College',\n",
       " 'Lafayette College',\n",
       " 'Lake Forest College',\n",
       " 'Lawrence University',\n",
       " 'Luther College (Iowa)',\n",
       " 'Macalester College',\n",
       " 'Manhattan College',\n",
       " 'Middlebury College',\n",
       " 'Mills College',\n",
       " 'Morehouse College',\n",
       " 'Mount Holyoke College',\n",
       " 'Oberlin College',\n",
       " 'Occidental College',\n",
       " 'Ohio Wesleyan University',\n",
       " 'Pomona College',\n",
       " 'Reed College',\n",
       " 'Rhodes College',\n",
       " \"Saint Michael's College\",\n",
       " 'Sewanee: The University of the South',\n",
       " 'Skidmore College',\n",
       " 'Smith College',\n",
       " 'Southwestern University',\n",
       " 'Spelman College',\n",
       " 'St. Lawrence University',\n",
       " 'St. Olaf College',\n",
       " 'Swarthmore College',\n",
       " 'Trinity College (Connecticut)',\n",
       " 'Trinity University (Texas)',\n",
       " 'Union College',\n",
       " 'Vassar College',\n",
       " 'Wabash College',\n",
       " 'Washington College',\n",
       " 'Washington and Lee University',\n",
       " 'Wellesley College',\n",
       " 'Wesleyan University',\n",
       " 'Wheaton College (Illinois)',\n",
       " 'Wheaton College (Massachusetts)',\n",
       " 'Whitman College',\n",
       " 'Whittier College',\n",
       " 'Williams College']"
      ]
     },
     "execution_count": 43,
     "metadata": {},
     "output_type": "execute_result"
    }
   ],
   "source": [
    "clac_colleges = wf.get_page_outlinks(\"Consortium of Liberal Arts Colleges\")\n",
    "clac_colleges"
   ]
  },
  {
   "cell_type": "markdown",
   "id": "86a8d9ff",
   "metadata": {},
   "source": [
    "Skipping down to Albion College, get the revision histories for each of these articles."
   ]
  },
  {
   "cell_type": "code",
   "execution_count": 46,
   "id": "ae189d42",
   "metadata": {},
   "outputs": [],
   "source": [
    "# Make an empty container to fill with data\n",
    "clac_revision_history_d = {}\n",
    "\n",
    "# For each article starting at index 4 onwards\n",
    "for _article in clac_colleges[4:]:\n",
    "    \n",
    "    # Try to get the revision history for the article\n",
    "    try:\n",
    "        clac_revision_history_d[_article] = wf.get_all_page_revisions(_article)\n",
    "        \n",
    "    # Break the loop if I force it to stop\n",
    "    except KeyboardInterrupt:\n",
    "        break\n",
    "    \n",
    "    # If there's an error, print the article name and move on\n",
    "    except:\n",
    "        print(\"Error on {0}\".format(_article))\n",
    "        pass"
   ]
  },
  {
   "cell_type": "markdown",
   "id": "998aa6d8",
   "metadata": {},
   "source": [
    "Concatenate all the article DataFrames together into a giant DataFrame."
   ]
  },
  {
   "cell_type": "code",
   "execution_count": 47,
   "id": "9d63cb15",
   "metadata": {},
   "outputs": [
    {
     "data": {
      "text/html": [
       "<div>\n",
       "<style scoped>\n",
       "    .dataframe tbody tr th:only-of-type {\n",
       "        vertical-align: middle;\n",
       "    }\n",
       "\n",
       "    .dataframe tbody tr th {\n",
       "        vertical-align: top;\n",
       "    }\n",
       "\n",
       "    .dataframe thead th {\n",
       "        text-align: right;\n",
       "    }\n",
       "</style>\n",
       "<table border=\"1\" class=\"dataframe\">\n",
       "  <thead>\n",
       "    <tr style=\"text-align: right;\">\n",
       "      <th></th>\n",
       "      <th></th>\n",
       "      <th>revid</th>\n",
       "      <th>parentid</th>\n",
       "      <th>user</th>\n",
       "      <th>userid</th>\n",
       "      <th>timestamp</th>\n",
       "      <th>size</th>\n",
       "      <th>sha1</th>\n",
       "      <th>comment</th>\n",
       "      <th>anon</th>\n",
       "      <th>sha1hidden</th>\n",
       "      <th>page</th>\n",
       "      <th>date</th>\n",
       "      <th>diff</th>\n",
       "      <th>lag</th>\n",
       "      <th>age</th>\n",
       "      <th>commenthidden</th>\n",
       "      <th>suppressed</th>\n",
       "      <th>userhidden</th>\n",
       "    </tr>\n",
       "  </thead>\n",
       "  <tbody>\n",
       "    <tr>\n",
       "      <th rowspan=\"5\" valign=\"top\">Albion College</th>\n",
       "      <th>0</th>\n",
       "      <td>2555528</td>\n",
       "      <td>0</td>\n",
       "      <td>Bkonrad</td>\n",
       "      <td>44062</td>\n",
       "      <td>2004-02-15 19:30:44+00:00</td>\n",
       "      <td>736</td>\n",
       "      <td>ee80a48c69a2597a24368ff0205bac063a41a745</td>\n",
       "      <td></td>\n",
       "      <td>NaN</td>\n",
       "      <td>NaN</td>\n",
       "      <td>Albion College</td>\n",
       "      <td>2004-02-15</td>\n",
       "      <td>NaN</td>\n",
       "      <td>NaN</td>\n",
       "      <td>0.000000</td>\n",
       "      <td>NaN</td>\n",
       "      <td>NaN</td>\n",
       "      <td>NaN</td>\n",
       "    </tr>\n",
       "    <tr>\n",
       "      <th>1</th>\n",
       "      <td>2738887</td>\n",
       "      <td>2555528</td>\n",
       "      <td>Bkonrad</td>\n",
       "      <td>44062</td>\n",
       "      <td>2004-02-28 02:33:59+00:00</td>\n",
       "      <td>740</td>\n",
       "      <td>4f53697708cf43c4112e39af179031c84e565b42</td>\n",
       "      <td></td>\n",
       "      <td>NaN</td>\n",
       "      <td>NaN</td>\n",
       "      <td>Albion College</td>\n",
       "      <td>2004-02-28</td>\n",
       "      <td>4.0</td>\n",
       "      <td>1062195.0</td>\n",
       "      <td>12.293924</td>\n",
       "      <td>NaN</td>\n",
       "      <td>NaN</td>\n",
       "      <td>NaN</td>\n",
       "    </tr>\n",
       "    <tr>\n",
       "      <th>2</th>\n",
       "      <td>2739502</td>\n",
       "      <td>2738887</td>\n",
       "      <td>Bkonrad</td>\n",
       "      <td>44062</td>\n",
       "      <td>2004-03-12 21:34:40+00:00</td>\n",
       "      <td>2795</td>\n",
       "      <td>5b03c14fd13a17e139ce61bd32a49ed62590b41d</td>\n",
       "      <td>+early history</td>\n",
       "      <td>NaN</td>\n",
       "      <td>NaN</td>\n",
       "      <td>Albion College</td>\n",
       "      <td>2004-03-12</td>\n",
       "      <td>2055.0</td>\n",
       "      <td>1191641.0</td>\n",
       "      <td>26.086065</td>\n",
       "      <td>NaN</td>\n",
       "      <td>NaN</td>\n",
       "      <td>NaN</td>\n",
       "    </tr>\n",
       "    <tr>\n",
       "      <th>3</th>\n",
       "      <td>2739596</td>\n",
       "      <td>2739502</td>\n",
       "      <td>Bkonrad</td>\n",
       "      <td>44062</td>\n",
       "      <td>2004-03-12 22:17:31+00:00</td>\n",
       "      <td>2791</td>\n",
       "      <td>41cc9d6ff75d075951a63828d257890c6d08a43d</td>\n",
       "      <td>revise date, see talk</td>\n",
       "      <td>NaN</td>\n",
       "      <td>NaN</td>\n",
       "      <td>Albion College</td>\n",
       "      <td>2004-03-12</td>\n",
       "      <td>-4.0</td>\n",
       "      <td>2571.0</td>\n",
       "      <td>26.115822</td>\n",
       "      <td>NaN</td>\n",
       "      <td>NaN</td>\n",
       "      <td>NaN</td>\n",
       "    </tr>\n",
       "    <tr>\n",
       "      <th>4</th>\n",
       "      <td>2742226</td>\n",
       "      <td>2739596</td>\n",
       "      <td>Bkonrad</td>\n",
       "      <td>44062</td>\n",
       "      <td>2004-03-12 22:36:17+00:00</td>\n",
       "      <td>2791</td>\n",
       "      <td>0e3e5d484ce01cbd82a0a649f77742ad7b667dea</td>\n",
       "      <td>modify dates</td>\n",
       "      <td>NaN</td>\n",
       "      <td>NaN</td>\n",
       "      <td>Albion College</td>\n",
       "      <td>2004-03-12</td>\n",
       "      <td>0.0</td>\n",
       "      <td>1126.0</td>\n",
       "      <td>26.128854</td>\n",
       "      <td>NaN</td>\n",
       "      <td>NaN</td>\n",
       "      <td>NaN</td>\n",
       "    </tr>\n",
       "  </tbody>\n",
       "</table>\n",
       "</div>"
      ],
      "text/plain": [
       "                    revid  parentid     user userid                 timestamp  \\\n",
       "Albion College 0  2555528         0  Bkonrad  44062 2004-02-15 19:30:44+00:00   \n",
       "               1  2738887   2555528  Bkonrad  44062 2004-02-28 02:33:59+00:00   \n",
       "               2  2739502   2738887  Bkonrad  44062 2004-03-12 21:34:40+00:00   \n",
       "               3  2739596   2739502  Bkonrad  44062 2004-03-12 22:17:31+00:00   \n",
       "               4  2742226   2739596  Bkonrad  44062 2004-03-12 22:36:17+00:00   \n",
       "\n",
       "                  size                                      sha1  \\\n",
       "Albion College 0   736  ee80a48c69a2597a24368ff0205bac063a41a745   \n",
       "               1   740  4f53697708cf43c4112e39af179031c84e565b42   \n",
       "               2  2795  5b03c14fd13a17e139ce61bd32a49ed62590b41d   \n",
       "               3  2791  41cc9d6ff75d075951a63828d257890c6d08a43d   \n",
       "               4  2791  0e3e5d484ce01cbd82a0a649f77742ad7b667dea   \n",
       "\n",
       "                                comment anon sha1hidden            page  \\\n",
       "Albion College 0                         NaN        NaN  Albion College   \n",
       "               1                         NaN        NaN  Albion College   \n",
       "               2         +early history  NaN        NaN  Albion College   \n",
       "               3  revise date, see talk  NaN        NaN  Albion College   \n",
       "               4           modify dates  NaN        NaN  Albion College   \n",
       "\n",
       "                        date    diff        lag        age commenthidden  \\\n",
       "Albion College 0  2004-02-15     NaN        NaN   0.000000           NaN   \n",
       "               1  2004-02-28     4.0  1062195.0  12.293924           NaN   \n",
       "               2  2004-03-12  2055.0  1191641.0  26.086065           NaN   \n",
       "               3  2004-03-12    -4.0     2571.0  26.115822           NaN   \n",
       "               4  2004-03-12     0.0     1126.0  26.128854           NaN   \n",
       "\n",
       "                 suppressed userhidden  \n",
       "Albion College 0        NaN        NaN  \n",
       "               1        NaN        NaN  \n",
       "               2        NaN        NaN  \n",
       "               3        NaN        NaN  \n",
       "               4        NaN        NaN  "
      ]
     },
     "execution_count": 47,
     "metadata": {},
     "output_type": "execute_result"
    }
   ],
   "source": [
    "# Concatenate college-level DataFrames together\n",
    "clac_df = pd.concat(clac_revision_history_d)\n",
    "\n",
    "# Idiosyncrasy involving timestamps, just cast to consistent type\n",
    "clac_df['timestamp'] = pd.to_datetime(clac_df['timestamp'])\n",
    "\n",
    "# Inspect\n",
    "clac_df.head()"
   ]
  },
  {
   "cell_type": "markdown",
   "id": "c581c9ae",
   "metadata": {},
   "source": [
    "We spent so much time getting this data, we should save it someplace safer than memory."
   ]
  },
  {
   "cell_type": "code",
   "execution_count": 48,
   "id": "dc941922",
   "metadata": {},
   "outputs": [],
   "source": [
    "clac_df.to_csv('revision_histories_clac.csv',index=False)"
   ]
  },
  {
   "cell_type": "markdown",
   "id": "9bdc8f8d",
   "metadata": {},
   "source": [
    "Count up the number of times an editor contributed to an article."
   ]
  },
  {
   "cell_type": "code",
   "execution_count": 52,
   "id": "a18f2dba",
   "metadata": {},
   "outputs": [
    {
     "data": {
      "text/plain": [
       "user           page                    \n",
       "Sdkb           Pomona College              1278\n",
       "Classicfilms   Mount Holyoke College        801\n",
       "Broadmoor      Spelman College              635\n",
       "               Morehouse College            577\n",
       "LaSaltarella   Ohio Wesleyan University     438\n",
       "69.121.23.234  Wesleyan University          300\n",
       "Brit2010       Middlebury College           246\n",
       "74.88.196.81   Wesleyan University          234\n",
       "67.80.123.164  Wesleyan University          232\n",
       "69.121.22.66   Amherst College              232\n",
       "Name: revid, dtype: int64"
      ]
     },
     "execution_count": 52,
     "metadata": {},
     "output_type": "execute_result"
    }
   ],
   "source": [
    "# Perform a groupby-aggregation on the user-page level and aggregate by the number of unique revision IDs\n",
    "user_page_counts = clac_df.groupby(['user','page']).agg({'revid':'nunique'})\n",
    "\n",
    "# Inspect by sorting the revisions in ascending order\n",
    "user_page_counts['revid'].sort_values(ascending=False).head(10)"
   ]
  },
  {
   "cell_type": "markdown",
   "id": "4bdc3999",
   "metadata": {},
   "source": [
    "Reset this MultiIndex series back to a simpler DataFrame that is an \"edgelist\" and rename the \"revid\" column to \"weight\"."
   ]
  },
  {
   "cell_type": "code",
   "execution_count": 55,
   "id": "9af86e04",
   "metadata": {},
   "outputs": [
    {
     "data": {
      "text/html": [
       "<div>\n",
       "<style scoped>\n",
       "    .dataframe tbody tr th:only-of-type {\n",
       "        vertical-align: middle;\n",
       "    }\n",
       "\n",
       "    .dataframe tbody tr th {\n",
       "        vertical-align: top;\n",
       "    }\n",
       "\n",
       "    .dataframe thead th {\n",
       "        text-align: right;\n",
       "    }\n",
       "</style>\n",
       "<table border=\"1\" class=\"dataframe\">\n",
       "  <thead>\n",
       "    <tr style=\"text-align: right;\">\n",
       "      <th></th>\n",
       "      <th>user</th>\n",
       "      <th>page</th>\n",
       "      <th>weight</th>\n",
       "    </tr>\n",
       "  </thead>\n",
       "  <tbody>\n",
       "    <tr>\n",
       "      <th>0</th>\n",
       "      <td>(aeropagitica)</td>\n",
       "      <td>Claremont McKenna College</td>\n",
       "      <td>1</td>\n",
       "    </tr>\n",
       "    <tr>\n",
       "      <th>1</th>\n",
       "      <td>-5-</td>\n",
       "      <td>College of the Holy Cross</td>\n",
       "      <td>1</td>\n",
       "    </tr>\n",
       "    <tr>\n",
       "      <th>2</th>\n",
       "      <td>-Alabama-</td>\n",
       "      <td>Denison University</td>\n",
       "      <td>1</td>\n",
       "    </tr>\n",
       "    <tr>\n",
       "      <th>3</th>\n",
       "      <td>-Bobby</td>\n",
       "      <td>Hamilton College</td>\n",
       "      <td>5</td>\n",
       "    </tr>\n",
       "    <tr>\n",
       "      <th>4</th>\n",
       "      <td>.anacondabot</td>\n",
       "      <td>Wesleyan University</td>\n",
       "      <td>1</td>\n",
       "    </tr>\n",
       "  </tbody>\n",
       "</table>\n",
       "</div>"
      ],
      "text/plain": [
       "             user                       page  weight\n",
       "0  (aeropagitica)  Claremont McKenna College       1\n",
       "1             -5-  College of the Holy Cross       1\n",
       "2       -Alabama-         Denison University       1\n",
       "3          -Bobby           Hamilton College       5\n",
       "4    .anacondabot        Wesleyan University       1"
      ]
     },
     "execution_count": 55,
     "metadata": {},
     "output_type": "execute_result"
    }
   ],
   "source": [
    "user_page_counts_el = user_page_counts.reset_index()\n",
    "\n",
    "user_page_counts_el = user_page_counts_el.rename(columns={'revid':'weight'})\n",
    "\n",
    "user_page_counts_el.head()"
   ]
  },
  {
   "cell_type": "markdown",
   "id": "140e4e38",
   "metadata": {},
   "source": [
    "Use the `networkx` function [`from_pandas_edgelist`](https://networkx.org/documentation/stable/reference/generated/networkx.convert_matrix.from_pandas_edgelist.html) to convert this edgelist into a Graph object."
   ]
  },
  {
   "cell_type": "code",
   "execution_count": 57,
   "id": "5b9e9aec",
   "metadata": {},
   "outputs": [
    {
     "name": "stdout",
     "output_type": "stream",
     "text": [
      "39321\n",
      "53180\n"
     ]
    }
   ],
   "source": [
    "clac_g = nx.from_pandas_edgelist(\n",
    "    df = user_page_counts_el,\n",
    "    source = 'user',\n",
    "    target = 'page',\n",
    "    edge_attr = ['weight'],\n",
    "    create_using = nx.Graph\n",
    ")\n",
    "\n",
    "print(clac_g.number_of_nodes())\n",
    "print(clac_g.number_of_edges())"
   ]
  },
  {
   "cell_type": "markdown",
   "id": "09971a63",
   "metadata": {},
   "source": [
    "That's a lot of edits. Maybe let's just filter to revisions since 2022."
   ]
  },
  {
   "cell_type": "code",
   "execution_count": 91,
   "id": "bc021201",
   "metadata": {},
   "outputs": [
    {
     "data": {
      "text/html": [
       "<div>\n",
       "<style scoped>\n",
       "    .dataframe tbody tr th:only-of-type {\n",
       "        vertical-align: middle;\n",
       "    }\n",
       "\n",
       "    .dataframe tbody tr th {\n",
       "        vertical-align: top;\n",
       "    }\n",
       "\n",
       "    .dataframe thead th {\n",
       "        text-align: right;\n",
       "    }\n",
       "</style>\n",
       "<table border=\"1\" class=\"dataframe\">\n",
       "  <thead>\n",
       "    <tr style=\"text-align: right;\">\n",
       "      <th></th>\n",
       "      <th>user</th>\n",
       "      <th>page</th>\n",
       "      <th>weight</th>\n",
       "    </tr>\n",
       "  </thead>\n",
       "  <tbody>\n",
       "    <tr>\n",
       "      <th>0</th>\n",
       "      <td>-Alabama-</td>\n",
       "      <td>Denison University</td>\n",
       "      <td>1</td>\n",
       "    </tr>\n",
       "    <tr>\n",
       "      <th>1</th>\n",
       "      <td>0mtwb9gd5wx</td>\n",
       "      <td>Vassar College</td>\n",
       "      <td>1</td>\n",
       "    </tr>\n",
       "    <tr>\n",
       "      <th>2</th>\n",
       "      <td>100.0.105.232</td>\n",
       "      <td>Lafayette College</td>\n",
       "      <td>1</td>\n",
       "    </tr>\n",
       "    <tr>\n",
       "      <th>3</th>\n",
       "      <td>100.15.202.166</td>\n",
       "      <td>Wellesley College</td>\n",
       "      <td>1</td>\n",
       "    </tr>\n",
       "    <tr>\n",
       "      <th>4</th>\n",
       "      <td>100.16.220.184</td>\n",
       "      <td>Rhodes College</td>\n",
       "      <td>1</td>\n",
       "    </tr>\n",
       "  </tbody>\n",
       "</table>\n",
       "</div>"
      ],
      "text/plain": [
       "             user                page  weight\n",
       "0       -Alabama-  Denison University       1\n",
       "1     0mtwb9gd5wx      Vassar College       1\n",
       "2   100.0.105.232   Lafayette College       1\n",
       "3  100.15.202.166   Wellesley College       1\n",
       "4  100.16.220.184      Rhodes College       1"
      ]
     },
     "execution_count": 91,
     "metadata": {},
     "output_type": "execute_result"
    }
   ],
   "source": [
    "# Filter to dates since January 1, 2022\n",
    "clac_recent_df = clac_df[clac_df['timestamp'] >= '2022-01-01']\n",
    "\n",
    "# Perform groupby-aggregation to count recent users\n",
    "recent_user_counts = clac_recent_df.groupby(['user','page']).agg({'revid':'nunique'})\n",
    "\n",
    "# Reset to simpler flat format\n",
    "recent_user_counts_el = recent_user_counts.reset_index()\n",
    "\n",
    "# Rename column\n",
    "recent_user_counts_el = recent_user_counts_el.rename(columns={'revid':'weight'})\n",
    "\n",
    "# Inspect\n",
    "recent_user_counts_el.head()"
   ]
  },
  {
   "cell_type": "code",
   "execution_count": 92,
   "id": "4ac3e5a3",
   "metadata": {},
   "outputs": [
    {
     "name": "stdout",
     "output_type": "stream",
     "text": [
      "1503\n",
      "2319\n"
     ]
    }
   ],
   "source": [
    "clac_recent_g = nx.from_pandas_edgelist(\n",
    "    df = recent_user_counts_el,\n",
    "    source = 'user',\n",
    "    target = 'page',\n",
    "    edge_attr = ['weight'],\n",
    "    create_using = nx.Graph\n",
    ")\n",
    "\n",
    "print(clac_recent_g.number_of_nodes())\n",
    "print(clac_recent_g.number_of_edges())"
   ]
  },
  {
   "cell_type": "markdown",
   "id": "827fd023",
   "metadata": {},
   "source": [
    "There are two types of nodes in this network: users and pages. We enforce a constraint that edges can only exist from users to pages; user-user and page-page relationships are not permitted because users cannot edit users and pages cannot edit pages. \n",
    "\n",
    "Check this bipartite assumption with `networkx`'s \"[bipartite](https://networkx.org/documentation/stable/reference/algorithms/bipartite.html)\" sub-module."
   ]
  },
  {
   "cell_type": "code",
   "execution_count": 93,
   "id": "3fdfda0e",
   "metadata": {},
   "outputs": [
    {
     "name": "stdout",
     "output_type": "stream",
     "text": [
      "There are 1,429 unique users.\n",
      "There are 74 unique pages.\n"
     ]
    }
   ],
   "source": [
    "clac_revision_users = recent_user_counts_el['user'].unique()\n",
    "clac_revision_pages = recent_user_counts_el['page'].unique()\n",
    "\n",
    "print(\"There are {0:,} unique users.\".format(len(clac_revision_users)))\n",
    "print(\"There are {0:,} unique pages.\".format(len(clac_revision_pages)))"
   ]
  },
  {
   "cell_type": "markdown",
   "id": "93de17dd",
   "metadata": {},
   "source": [
    "Sometimes a username and a page name are identical, which upsets this assumption. Let's check!"
   ]
  },
  {
   "cell_type": "code",
   "execution_count": 94,
   "id": "ece0b021",
   "metadata": {},
   "outputs": [
    {
     "data": {
      "text/plain": [
       "set()"
      ]
     },
     "execution_count": 94,
     "metadata": {},
     "output_type": "execute_result"
    }
   ],
   "source": [
    "set(clac_revision_users) & set(clac_revision_pages)"
   ]
  },
  {
   "cell_type": "markdown",
   "id": "978d1bcb",
   "metadata": {},
   "source": [
    "The `.is_bipartite` method will check this bipartite constraint."
   ]
  },
  {
   "cell_type": "code",
   "execution_count": 95,
   "id": "21739a25",
   "metadata": {},
   "outputs": [
    {
     "data": {
      "text/plain": [
       "True"
      ]
     },
     "execution_count": 95,
     "metadata": {},
     "output_type": "execute_result"
    }
   ],
   "source": [
    "nx.bipartite.is_bipartite(clac_g)"
   ]
  },
  {
   "cell_type": "markdown",
   "id": "579b48c7",
   "metadata": {},
   "source": [
    "Bipartite networks have a special density calculation because we only permit links to exist *between* node sets (editors revise articles) and not *within* node sets (editors revise editors or articles revise articles).\n",
    "\n",
    "The density $d$ of an undirected bipartite network $B$ with $M$ observed edges and a node set A of size $N_{a}$ and a complementary node set B of size $N_{b}$ is:\n",
    "\\begin{equation}\n",
    "d_{bipartite} = \\frac{M}{N_a N_b}\n",
    "\\end{equation}"
   ]
  },
  {
   "cell_type": "code",
   "execution_count": 107,
   "id": "e8085caa",
   "metadata": {},
   "outputs": [
    {
     "data": {
      "text/plain": [
       "0.021929907514232218"
      ]
     },
     "execution_count": 107,
     "metadata": {},
     "output_type": "execute_result"
    }
   ],
   "source": [
    "nx.bipartite.density(clac_recent_g,clac_revision_users)"
   ]
  },
  {
   "cell_type": "markdown",
   "id": "faf0a7ee",
   "metadata": {},
   "source": [
    "If we use the non-bipartite definition of density where all nodes are allowed to connect with each other, we get an erroneously low density (off by a factor of 10!) because it is counting possible connections that we do not permit to exist."
   ]
  },
  {
   "cell_type": "code",
   "execution_count": 108,
   "id": "7efefcf6",
   "metadata": {},
   "outputs": [
    {
     "data": {
      "text/plain": [
       "0.0020544795894230183"
      ]
     },
     "execution_count": 108,
     "metadata": {},
     "output_type": "execute_result"
    }
   ],
   "source": [
    "nx.density(clac_recent_g)"
   ]
  },
  {
   "cell_type": "markdown",
   "id": "fa13c024",
   "metadata": {},
   "source": [
    "Write out the network to GEXF to visualize in Gephi."
   ]
  },
  {
   "cell_type": "code",
   "execution_count": 132,
   "id": "8cd0a80e",
   "metadata": {},
   "outputs": [],
   "source": [
    "nx.write_gexf(clac_recent_g,'collaboration_graph.gexf')"
   ]
  },
  {
   "cell_type": "markdown",
   "id": "098df3c6",
   "metadata": {},
   "source": [
    "### Undirected network\n",
    "\n",
    "An *undirected* network is a graph where the relationships are all symmetric or a directional is not meaningful. A classic example is a Facebook friend relation: it exists or it doesn't but there is no meaningful direction from *from* X and *to* Y.\n",
    "\n",
    "We can convert the bipartite networks of editor-article interactions into two kinds of \"projected\" networks that are undirected.\n",
    "\n",
    "* **article projection** Two articles are connected to each other if they share an editor in common\n",
    "* **editor projection** Two editors are connected to each other if they edited an article in common\n",
    "* **pageview correlation** Two articles are connected to each other if they are strongly corrleated"
   ]
  },
  {
   "cell_type": "markdown",
   "id": "8a0bc756",
   "metadata": {},
   "source": [
    "#### Projection networks\n",
    "Only the users are present in the network, but we have created ties between the users based on whether (and how many!) articles they contributed to together."
   ]
  },
  {
   "cell_type": "code",
   "execution_count": 98,
   "id": "6f64a831",
   "metadata": {},
   "outputs": [
    {
     "name": "stdout",
     "output_type": "stream",
     "text": [
      "There are 1,429 nodes in the user projected network.\n",
      "There are 36,333 edges in the user projected network.\n"
     ]
    }
   ],
   "source": [
    "clac_user_proj_g = nx.bipartite.weighted_projected_graph(clac_recent_g,clac_revision_users)\n",
    "\n",
    "print(\"There are {0:,} nodes in the user projected network.\".format(clac_user_proj_g.number_of_nodes()))\n",
    "print(\"There are {0:,} edges in the user projected network.\".format(clac_user_proj_g.number_of_edges()))"
   ]
  },
  {
   "cell_type": "markdown",
   "id": "33b897b8",
   "metadata": {},
   "source": [
    "Only the articles are present in this projected network, but we have created ties between the articles based on whether and how many editors contributed to them together."
   ]
  },
  {
   "cell_type": "code",
   "execution_count": 99,
   "id": "5ea04a33",
   "metadata": {},
   "outputs": [
    {
     "name": "stdout",
     "output_type": "stream",
     "text": [
      "There are 74 nodes in the user projected network.\n",
      "There are 2,701 edges in the user projected network.\n"
     ]
    }
   ],
   "source": [
    "clac_page_proj_g = nx.bipartite.weighted_projected_graph(clac_recent_g,clac_revision_pages)\n",
    "\n",
    "print(\"There are {0:,} nodes in the user projected network.\".format(clac_page_proj_g.number_of_nodes()))\n",
    "print(\"There are {0:,} edges in the user projected network.\".format(clac_page_proj_g.number_of_edges()))"
   ]
  },
  {
   "cell_type": "markdown",
   "id": "3c76d43f",
   "metadata": {},
   "source": [
    "The density of an undirected network has half as many possible edges as a directed network: a connection from A to B is the same as B to A. This is not the case in a directed network. We add a scaling factor of one-half (two) to the undirected network density defintion to define an undirected network density $d$ with $M$ observed edges and $N$ nodes.\n",
    "\n",
    "\\begin{equation}\n",
    "d_{undirected} = \\frac{M}{\\frac{N(N-1)}{2}} = \\frac{2 M}{N(N-1)}\n",
    "\\end{equation}\n",
    "\n",
    "These projected networks tend to be very dense relative to other networks. A single article/editor in common among many editors/articles will make all these editors/articles connected to each other."
   ]
  },
  {
   "cell_type": "code",
   "execution_count": 109,
   "id": "4f9dad28",
   "metadata": {},
   "outputs": [
    {
     "data": {
      "text/plain": [
       "0.035609905263715005"
      ]
     },
     "execution_count": 109,
     "metadata": {},
     "output_type": "execute_result"
    }
   ],
   "source": [
    "nx.density(clac_user_proj_g)"
   ]
  },
  {
   "cell_type": "code",
   "execution_count": 110,
   "id": "bf706c1c",
   "metadata": {},
   "outputs": [
    {
     "data": {
      "text/plain": [
       "1.0"
      ]
     },
     "execution_count": 110,
     "metadata": {},
     "output_type": "execute_result"
    }
   ],
   "source": [
    "nx.density(clac_page_proj_g)"
   ]
  },
  {
   "cell_type": "markdown",
   "id": "79c55630",
   "metadata": {},
   "source": [
    "Write out the user network to visualize in Gephi."
   ]
  },
  {
   "cell_type": "code",
   "execution_count": 133,
   "id": "8a53b532",
   "metadata": {},
   "outputs": [],
   "source": [
    "nx.write_gexf(clac_user_proj_g,'collaboration_graph.gexf')"
   ]
  },
  {
   "cell_type": "markdown",
   "id": "2c8d130d",
   "metadata": {},
   "source": [
    "#### Correlation networks\n",
    "\n",
    "Filter `pv_corr` to only include correlations greater than 0.5."
   ]
  },
  {
   "cell_type": "code",
   "execution_count": 156,
   "id": "dd02ff6e",
   "metadata": {},
   "outputs": [
    {
     "data": {
      "text/html": [
       "<div>\n",
       "<style scoped>\n",
       "    .dataframe tbody tr th:only-of-type {\n",
       "        vertical-align: middle;\n",
       "    }\n",
       "\n",
       "    .dataframe tbody tr th {\n",
       "        vertical-align: top;\n",
       "    }\n",
       "\n",
       "    .dataframe thead th {\n",
       "        text-align: right;\n",
       "    }\n",
       "</style>\n",
       "<table border=\"1\" class=\"dataframe\">\n",
       "  <thead>\n",
       "    <tr style=\"text-align: right;\">\n",
       "      <th></th>\n",
       "      <th>Elizabeth II</th>\n",
       "      <th>Breach of confidence in English law</th>\n",
       "      <th>Sarah, Duchess of York</th>\n",
       "      <th>Union of South Africa</th>\n",
       "      <th>Treaty of Rome</th>\n",
       "      <th>Greek Orthodoxy</th>\n",
       "      <th>47th G7 summit</th>\n",
       "      <th>Operation Unicorn (Scotland)</th>\n",
       "      <th>Marcus Sarjeant</th>\n",
       "      <th>Colonel</th>\n",
       "      <th>...</th>\n",
       "      <th>Income tax</th>\n",
       "      <th>Paul Martin Sr.</th>\n",
       "      <th>Harry S. Truman</th>\n",
       "      <th>Children's Hour</th>\n",
       "      <th>Jean Chrétien</th>\n",
       "      <th>Apartheid</th>\n",
       "      <th>Tony Benn</th>\n",
       "      <th>Wedding of Princess Elizabeth and Philip Mountbatten</th>\n",
       "      <th>St Giles' Cathedral</th>\n",
       "      <th>John Paul II</th>\n",
       "    </tr>\n",
       "  </thead>\n",
       "  <tbody>\n",
       "    <tr>\n",
       "      <th>Elizabeth II</th>\n",
       "      <td>1.0</td>\n",
       "      <td>NaN</td>\n",
       "      <td>NaN</td>\n",
       "      <td>NaN</td>\n",
       "      <td>NaN</td>\n",
       "      <td>NaN</td>\n",
       "      <td>NaN</td>\n",
       "      <td>0.986548</td>\n",
       "      <td>NaN</td>\n",
       "      <td>NaN</td>\n",
       "      <td>...</td>\n",
       "      <td>NaN</td>\n",
       "      <td>NaN</td>\n",
       "      <td>NaN</td>\n",
       "      <td>NaN</td>\n",
       "      <td>NaN</td>\n",
       "      <td>NaN</td>\n",
       "      <td>NaN</td>\n",
       "      <td>NaN</td>\n",
       "      <td>NaN</td>\n",
       "      <td>NaN</td>\n",
       "    </tr>\n",
       "    <tr>\n",
       "      <th>Breach of confidence in English law</th>\n",
       "      <td>NaN</td>\n",
       "      <td>1.0</td>\n",
       "      <td>NaN</td>\n",
       "      <td>NaN</td>\n",
       "      <td>NaN</td>\n",
       "      <td>NaN</td>\n",
       "      <td>NaN</td>\n",
       "      <td>NaN</td>\n",
       "      <td>NaN</td>\n",
       "      <td>NaN</td>\n",
       "      <td>...</td>\n",
       "      <td>NaN</td>\n",
       "      <td>NaN</td>\n",
       "      <td>NaN</td>\n",
       "      <td>NaN</td>\n",
       "      <td>NaN</td>\n",
       "      <td>NaN</td>\n",
       "      <td>NaN</td>\n",
       "      <td>NaN</td>\n",
       "      <td>NaN</td>\n",
       "      <td>NaN</td>\n",
       "    </tr>\n",
       "    <tr>\n",
       "      <th>Sarah, Duchess of York</th>\n",
       "      <td>NaN</td>\n",
       "      <td>NaN</td>\n",
       "      <td>1.0</td>\n",
       "      <td>NaN</td>\n",
       "      <td>NaN</td>\n",
       "      <td>NaN</td>\n",
       "      <td>NaN</td>\n",
       "      <td>NaN</td>\n",
       "      <td>NaN</td>\n",
       "      <td>NaN</td>\n",
       "      <td>...</td>\n",
       "      <td>NaN</td>\n",
       "      <td>NaN</td>\n",
       "      <td>NaN</td>\n",
       "      <td>NaN</td>\n",
       "      <td>NaN</td>\n",
       "      <td>NaN</td>\n",
       "      <td>NaN</td>\n",
       "      <td>NaN</td>\n",
       "      <td>NaN</td>\n",
       "      <td>NaN</td>\n",
       "    </tr>\n",
       "    <tr>\n",
       "      <th>Union of South Africa</th>\n",
       "      <td>NaN</td>\n",
       "      <td>NaN</td>\n",
       "      <td>NaN</td>\n",
       "      <td>1.0</td>\n",
       "      <td>NaN</td>\n",
       "      <td>NaN</td>\n",
       "      <td>NaN</td>\n",
       "      <td>NaN</td>\n",
       "      <td>NaN</td>\n",
       "      <td>NaN</td>\n",
       "      <td>...</td>\n",
       "      <td>NaN</td>\n",
       "      <td>NaN</td>\n",
       "      <td>NaN</td>\n",
       "      <td>NaN</td>\n",
       "      <td>NaN</td>\n",
       "      <td>NaN</td>\n",
       "      <td>NaN</td>\n",
       "      <td>NaN</td>\n",
       "      <td>NaN</td>\n",
       "      <td>NaN</td>\n",
       "    </tr>\n",
       "    <tr>\n",
       "      <th>Treaty of Rome</th>\n",
       "      <td>NaN</td>\n",
       "      <td>NaN</td>\n",
       "      <td>NaN</td>\n",
       "      <td>NaN</td>\n",
       "      <td>1.0</td>\n",
       "      <td>NaN</td>\n",
       "      <td>NaN</td>\n",
       "      <td>NaN</td>\n",
       "      <td>NaN</td>\n",
       "      <td>NaN</td>\n",
       "      <td>...</td>\n",
       "      <td>NaN</td>\n",
       "      <td>NaN</td>\n",
       "      <td>NaN</td>\n",
       "      <td>NaN</td>\n",
       "      <td>NaN</td>\n",
       "      <td>NaN</td>\n",
       "      <td>NaN</td>\n",
       "      <td>NaN</td>\n",
       "      <td>NaN</td>\n",
       "      <td>NaN</td>\n",
       "    </tr>\n",
       "    <tr>\n",
       "      <th>...</th>\n",
       "      <td>...</td>\n",
       "      <td>...</td>\n",
       "      <td>...</td>\n",
       "      <td>...</td>\n",
       "      <td>...</td>\n",
       "      <td>...</td>\n",
       "      <td>...</td>\n",
       "      <td>...</td>\n",
       "      <td>...</td>\n",
       "      <td>...</td>\n",
       "      <td>...</td>\n",
       "      <td>...</td>\n",
       "      <td>...</td>\n",
       "      <td>...</td>\n",
       "      <td>...</td>\n",
       "      <td>...</td>\n",
       "      <td>...</td>\n",
       "      <td>...</td>\n",
       "      <td>...</td>\n",
       "      <td>...</td>\n",
       "      <td>...</td>\n",
       "    </tr>\n",
       "    <tr>\n",
       "      <th>Apartheid</th>\n",
       "      <td>NaN</td>\n",
       "      <td>NaN</td>\n",
       "      <td>NaN</td>\n",
       "      <td>NaN</td>\n",
       "      <td>NaN</td>\n",
       "      <td>NaN</td>\n",
       "      <td>NaN</td>\n",
       "      <td>NaN</td>\n",
       "      <td>NaN</td>\n",
       "      <td>NaN</td>\n",
       "      <td>...</td>\n",
       "      <td>NaN</td>\n",
       "      <td>NaN</td>\n",
       "      <td>NaN</td>\n",
       "      <td>NaN</td>\n",
       "      <td>NaN</td>\n",
       "      <td>1.0</td>\n",
       "      <td>NaN</td>\n",
       "      <td>NaN</td>\n",
       "      <td>NaN</td>\n",
       "      <td>NaN</td>\n",
       "    </tr>\n",
       "    <tr>\n",
       "      <th>Tony Benn</th>\n",
       "      <td>NaN</td>\n",
       "      <td>NaN</td>\n",
       "      <td>NaN</td>\n",
       "      <td>NaN</td>\n",
       "      <td>NaN</td>\n",
       "      <td>NaN</td>\n",
       "      <td>NaN</td>\n",
       "      <td>NaN</td>\n",
       "      <td>NaN</td>\n",
       "      <td>NaN</td>\n",
       "      <td>...</td>\n",
       "      <td>NaN</td>\n",
       "      <td>NaN</td>\n",
       "      <td>NaN</td>\n",
       "      <td>NaN</td>\n",
       "      <td>NaN</td>\n",
       "      <td>NaN</td>\n",
       "      <td>1.0</td>\n",
       "      <td>NaN</td>\n",
       "      <td>NaN</td>\n",
       "      <td>NaN</td>\n",
       "    </tr>\n",
       "    <tr>\n",
       "      <th>Wedding of Princess Elizabeth and Philip Mountbatten</th>\n",
       "      <td>NaN</td>\n",
       "      <td>NaN</td>\n",
       "      <td>NaN</td>\n",
       "      <td>NaN</td>\n",
       "      <td>NaN</td>\n",
       "      <td>NaN</td>\n",
       "      <td>NaN</td>\n",
       "      <td>NaN</td>\n",
       "      <td>NaN</td>\n",
       "      <td>NaN</td>\n",
       "      <td>...</td>\n",
       "      <td>NaN</td>\n",
       "      <td>NaN</td>\n",
       "      <td>NaN</td>\n",
       "      <td>NaN</td>\n",
       "      <td>NaN</td>\n",
       "      <td>NaN</td>\n",
       "      <td>NaN</td>\n",
       "      <td>1.0</td>\n",
       "      <td>NaN</td>\n",
       "      <td>NaN</td>\n",
       "    </tr>\n",
       "    <tr>\n",
       "      <th>St Giles' Cathedral</th>\n",
       "      <td>NaN</td>\n",
       "      <td>NaN</td>\n",
       "      <td>NaN</td>\n",
       "      <td>NaN</td>\n",
       "      <td>NaN</td>\n",
       "      <td>NaN</td>\n",
       "      <td>NaN</td>\n",
       "      <td>NaN</td>\n",
       "      <td>NaN</td>\n",
       "      <td>NaN</td>\n",
       "      <td>...</td>\n",
       "      <td>NaN</td>\n",
       "      <td>NaN</td>\n",
       "      <td>NaN</td>\n",
       "      <td>NaN</td>\n",
       "      <td>NaN</td>\n",
       "      <td>NaN</td>\n",
       "      <td>NaN</td>\n",
       "      <td>NaN</td>\n",
       "      <td>1.0</td>\n",
       "      <td>NaN</td>\n",
       "    </tr>\n",
       "    <tr>\n",
       "      <th>John Paul II</th>\n",
       "      <td>NaN</td>\n",
       "      <td>NaN</td>\n",
       "      <td>NaN</td>\n",
       "      <td>NaN</td>\n",
       "      <td>NaN</td>\n",
       "      <td>NaN</td>\n",
       "      <td>NaN</td>\n",
       "      <td>NaN</td>\n",
       "      <td>NaN</td>\n",
       "      <td>NaN</td>\n",
       "      <td>...</td>\n",
       "      <td>NaN</td>\n",
       "      <td>NaN</td>\n",
       "      <td>NaN</td>\n",
       "      <td>NaN</td>\n",
       "      <td>NaN</td>\n",
       "      <td>NaN</td>\n",
       "      <td>NaN</td>\n",
       "      <td>NaN</td>\n",
       "      <td>NaN</td>\n",
       "      <td>1.0</td>\n",
       "    </tr>\n",
       "  </tbody>\n",
       "</table>\n",
       "<p>538 rows × 538 columns</p>\n",
       "</div>"
      ],
      "text/plain": [
       "                                                    Elizabeth II  \\\n",
       "Elizabeth II                                                 1.0   \n",
       "Breach of confidence in English law                          NaN   \n",
       "Sarah, Duchess of York                                       NaN   \n",
       "Union of South Africa                                        NaN   \n",
       "Treaty of Rome                                               NaN   \n",
       "...                                                          ...   \n",
       "Apartheid                                                    NaN   \n",
       "Tony Benn                                                    NaN   \n",
       "Wedding of Princess Elizabeth and Philip Mountb...           NaN   \n",
       "St Giles' Cathedral                                          NaN   \n",
       "John Paul II                                                 NaN   \n",
       "\n",
       "                                                    Breach of confidence in English law  \\\n",
       "Elizabeth II                                                                        NaN   \n",
       "Breach of confidence in English law                                                 1.0   \n",
       "Sarah, Duchess of York                                                              NaN   \n",
       "Union of South Africa                                                               NaN   \n",
       "Treaty of Rome                                                                      NaN   \n",
       "...                                                                                 ...   \n",
       "Apartheid                                                                           NaN   \n",
       "Tony Benn                                                                           NaN   \n",
       "Wedding of Princess Elizabeth and Philip Mountb...                                  NaN   \n",
       "St Giles' Cathedral                                                                 NaN   \n",
       "John Paul II                                                                        NaN   \n",
       "\n",
       "                                                    Sarah, Duchess of York  \\\n",
       "Elizabeth II                                                           NaN   \n",
       "Breach of confidence in English law                                    NaN   \n",
       "Sarah, Duchess of York                                                 1.0   \n",
       "Union of South Africa                                                  NaN   \n",
       "Treaty of Rome                                                         NaN   \n",
       "...                                                                    ...   \n",
       "Apartheid                                                              NaN   \n",
       "Tony Benn                                                              NaN   \n",
       "Wedding of Princess Elizabeth and Philip Mountb...                     NaN   \n",
       "St Giles' Cathedral                                                    NaN   \n",
       "John Paul II                                                           NaN   \n",
       "\n",
       "                                                    Union of South Africa  \\\n",
       "Elizabeth II                                                          NaN   \n",
       "Breach of confidence in English law                                   NaN   \n",
       "Sarah, Duchess of York                                                NaN   \n",
       "Union of South Africa                                                 1.0   \n",
       "Treaty of Rome                                                        NaN   \n",
       "...                                                                   ...   \n",
       "Apartheid                                                             NaN   \n",
       "Tony Benn                                                             NaN   \n",
       "Wedding of Princess Elizabeth and Philip Mountb...                    NaN   \n",
       "St Giles' Cathedral                                                   NaN   \n",
       "John Paul II                                                          NaN   \n",
       "\n",
       "                                                    Treaty of Rome  \\\n",
       "Elizabeth II                                                   NaN   \n",
       "Breach of confidence in English law                            NaN   \n",
       "Sarah, Duchess of York                                         NaN   \n",
       "Union of South Africa                                          NaN   \n",
       "Treaty of Rome                                                 1.0   \n",
       "...                                                            ...   \n",
       "Apartheid                                                      NaN   \n",
       "Tony Benn                                                      NaN   \n",
       "Wedding of Princess Elizabeth and Philip Mountb...             NaN   \n",
       "St Giles' Cathedral                                            NaN   \n",
       "John Paul II                                                   NaN   \n",
       "\n",
       "                                                    Greek Orthodoxy  \\\n",
       "Elizabeth II                                                    NaN   \n",
       "Breach of confidence in English law                             NaN   \n",
       "Sarah, Duchess of York                                          NaN   \n",
       "Union of South Africa                                           NaN   \n",
       "Treaty of Rome                                                  NaN   \n",
       "...                                                             ...   \n",
       "Apartheid                                                       NaN   \n",
       "Tony Benn                                                       NaN   \n",
       "Wedding of Princess Elizabeth and Philip Mountb...              NaN   \n",
       "St Giles' Cathedral                                             NaN   \n",
       "John Paul II                                                    NaN   \n",
       "\n",
       "                                                    47th G7 summit  \\\n",
       "Elizabeth II                                                   NaN   \n",
       "Breach of confidence in English law                            NaN   \n",
       "Sarah, Duchess of York                                         NaN   \n",
       "Union of South Africa                                          NaN   \n",
       "Treaty of Rome                                                 NaN   \n",
       "...                                                            ...   \n",
       "Apartheid                                                      NaN   \n",
       "Tony Benn                                                      NaN   \n",
       "Wedding of Princess Elizabeth and Philip Mountb...             NaN   \n",
       "St Giles' Cathedral                                            NaN   \n",
       "John Paul II                                                   NaN   \n",
       "\n",
       "                                                    Operation Unicorn (Scotland)  \\\n",
       "Elizabeth II                                                            0.986548   \n",
       "Breach of confidence in English law                                          NaN   \n",
       "Sarah, Duchess of York                                                       NaN   \n",
       "Union of South Africa                                                        NaN   \n",
       "Treaty of Rome                                                               NaN   \n",
       "...                                                                          ...   \n",
       "Apartheid                                                                    NaN   \n",
       "Tony Benn                                                                    NaN   \n",
       "Wedding of Princess Elizabeth and Philip Mountb...                           NaN   \n",
       "St Giles' Cathedral                                                          NaN   \n",
       "John Paul II                                                                 NaN   \n",
       "\n",
       "                                                    Marcus Sarjeant  Colonel  \\\n",
       "Elizabeth II                                                    NaN      NaN   \n",
       "Breach of confidence in English law                             NaN      NaN   \n",
       "Sarah, Duchess of York                                          NaN      NaN   \n",
       "Union of South Africa                                           NaN      NaN   \n",
       "Treaty of Rome                                                  NaN      NaN   \n",
       "...                                                             ...      ...   \n",
       "Apartheid                                                       NaN      NaN   \n",
       "Tony Benn                                                       NaN      NaN   \n",
       "Wedding of Princess Elizabeth and Philip Mountb...              NaN      NaN   \n",
       "St Giles' Cathedral                                             NaN      NaN   \n",
       "John Paul II                                                    NaN      NaN   \n",
       "\n",
       "                                                    ...  Income tax  \\\n",
       "Elizabeth II                                        ...         NaN   \n",
       "Breach of confidence in English law                 ...         NaN   \n",
       "Sarah, Duchess of York                              ...         NaN   \n",
       "Union of South Africa                               ...         NaN   \n",
       "Treaty of Rome                                      ...         NaN   \n",
       "...                                                 ...         ...   \n",
       "Apartheid                                           ...         NaN   \n",
       "Tony Benn                                           ...         NaN   \n",
       "Wedding of Princess Elizabeth and Philip Mountb...  ...         NaN   \n",
       "St Giles' Cathedral                                 ...         NaN   \n",
       "John Paul II                                        ...         NaN   \n",
       "\n",
       "                                                    Paul Martin Sr.  \\\n",
       "Elizabeth II                                                    NaN   \n",
       "Breach of confidence in English law                             NaN   \n",
       "Sarah, Duchess of York                                          NaN   \n",
       "Union of South Africa                                           NaN   \n",
       "Treaty of Rome                                                  NaN   \n",
       "...                                                             ...   \n",
       "Apartheid                                                       NaN   \n",
       "Tony Benn                                                       NaN   \n",
       "Wedding of Princess Elizabeth and Philip Mountb...              NaN   \n",
       "St Giles' Cathedral                                             NaN   \n",
       "John Paul II                                                    NaN   \n",
       "\n",
       "                                                    Harry S. Truman  \\\n",
       "Elizabeth II                                                    NaN   \n",
       "Breach of confidence in English law                             NaN   \n",
       "Sarah, Duchess of York                                          NaN   \n",
       "Union of South Africa                                           NaN   \n",
       "Treaty of Rome                                                  NaN   \n",
       "...                                                             ...   \n",
       "Apartheid                                                       NaN   \n",
       "Tony Benn                                                       NaN   \n",
       "Wedding of Princess Elizabeth and Philip Mountb...              NaN   \n",
       "St Giles' Cathedral                                             NaN   \n",
       "John Paul II                                                    NaN   \n",
       "\n",
       "                                                    Children's Hour  \\\n",
       "Elizabeth II                                                    NaN   \n",
       "Breach of confidence in English law                             NaN   \n",
       "Sarah, Duchess of York                                          NaN   \n",
       "Union of South Africa                                           NaN   \n",
       "Treaty of Rome                                                  NaN   \n",
       "...                                                             ...   \n",
       "Apartheid                                                       NaN   \n",
       "Tony Benn                                                       NaN   \n",
       "Wedding of Princess Elizabeth and Philip Mountb...              NaN   \n",
       "St Giles' Cathedral                                             NaN   \n",
       "John Paul II                                                    NaN   \n",
       "\n",
       "                                                    Jean Chrétien  Apartheid  \\\n",
       "Elizabeth II                                                  NaN        NaN   \n",
       "Breach of confidence in English law                           NaN        NaN   \n",
       "Sarah, Duchess of York                                        NaN        NaN   \n",
       "Union of South Africa                                         NaN        NaN   \n",
       "Treaty of Rome                                                NaN        NaN   \n",
       "...                                                           ...        ...   \n",
       "Apartheid                                                     NaN        1.0   \n",
       "Tony Benn                                                     NaN        NaN   \n",
       "Wedding of Princess Elizabeth and Philip Mountb...            NaN        NaN   \n",
       "St Giles' Cathedral                                           NaN        NaN   \n",
       "John Paul II                                                  NaN        NaN   \n",
       "\n",
       "                                                    Tony Benn  \\\n",
       "Elizabeth II                                              NaN   \n",
       "Breach of confidence in English law                       NaN   \n",
       "Sarah, Duchess of York                                    NaN   \n",
       "Union of South Africa                                     NaN   \n",
       "Treaty of Rome                                            NaN   \n",
       "...                                                       ...   \n",
       "Apartheid                                                 NaN   \n",
       "Tony Benn                                                 1.0   \n",
       "Wedding of Princess Elizabeth and Philip Mountb...        NaN   \n",
       "St Giles' Cathedral                                       NaN   \n",
       "John Paul II                                              NaN   \n",
       "\n",
       "                                                    Wedding of Princess Elizabeth and Philip Mountbatten  \\\n",
       "Elizabeth II                                                                                      NaN      \n",
       "Breach of confidence in English law                                                               NaN      \n",
       "Sarah, Duchess of York                                                                            NaN      \n",
       "Union of South Africa                                                                             NaN      \n",
       "Treaty of Rome                                                                                    NaN      \n",
       "...                                                                                               ...      \n",
       "Apartheid                                                                                         NaN      \n",
       "Tony Benn                                                                                         NaN      \n",
       "Wedding of Princess Elizabeth and Philip Mountb...                                                1.0      \n",
       "St Giles' Cathedral                                                                               NaN      \n",
       "John Paul II                                                                                      NaN      \n",
       "\n",
       "                                                    St Giles' Cathedral  \\\n",
       "Elizabeth II                                                        NaN   \n",
       "Breach of confidence in English law                                 NaN   \n",
       "Sarah, Duchess of York                                              NaN   \n",
       "Union of South Africa                                               NaN   \n",
       "Treaty of Rome                                                      NaN   \n",
       "...                                                                 ...   \n",
       "Apartheid                                                           NaN   \n",
       "Tony Benn                                                           NaN   \n",
       "Wedding of Princess Elizabeth and Philip Mountb...                  NaN   \n",
       "St Giles' Cathedral                                                 1.0   \n",
       "John Paul II                                                        NaN   \n",
       "\n",
       "                                                    John Paul II  \n",
       "Elizabeth II                                                 NaN  \n",
       "Breach of confidence in English law                          NaN  \n",
       "Sarah, Duchess of York                                       NaN  \n",
       "Union of South Africa                                        NaN  \n",
       "Treaty of Rome                                               NaN  \n",
       "...                                                          ...  \n",
       "Apartheid                                                    NaN  \n",
       "Tony Benn                                                    NaN  \n",
       "Wedding of Princess Elizabeth and Philip Mountb...           NaN  \n",
       "St Giles' Cathedral                                          NaN  \n",
       "John Paul II                                                 1.0  \n",
       "\n",
       "[538 rows x 538 columns]"
      ]
     },
     "execution_count": 156,
     "metadata": {},
     "output_type": "execute_result"
    }
   ],
   "source": [
    "pv_corr_gt = pv_corr[pv_corr > .8]\n",
    "\n",
    "pv_corr_gt"
   ]
  },
  {
   "cell_type": "markdown",
   "id": "ba4dfed8",
   "metadata": {},
   "source": [
    "Convert to an edgelist."
   ]
  },
  {
   "cell_type": "code",
   "execution_count": 164,
   "id": "953129cb",
   "metadata": {},
   "outputs": [
    {
     "data": {
      "text/html": [
       "<div>\n",
       "<style scoped>\n",
       "    .dataframe tbody tr th:only-of-type {\n",
       "        vertical-align: middle;\n",
       "    }\n",
       "\n",
       "    .dataframe tbody tr th {\n",
       "        vertical-align: top;\n",
       "    }\n",
       "\n",
       "    .dataframe thead th {\n",
       "        text-align: right;\n",
       "    }\n",
       "</style>\n",
       "<table border=\"1\" class=\"dataframe\">\n",
       "  <thead>\n",
       "    <tr style=\"text-align: right;\">\n",
       "      <th></th>\n",
       "      <th>Source</th>\n",
       "      <th>Target</th>\n",
       "      <th>Weight</th>\n",
       "    </tr>\n",
       "  </thead>\n",
       "  <tbody>\n",
       "    <tr>\n",
       "      <th>2752</th>\n",
       "      <td>Duke of Edinburgh</td>\n",
       "      <td>Prince Edward, Duke of Edinburgh</td>\n",
       "      <td>0.999506</td>\n",
       "    </tr>\n",
       "    <tr>\n",
       "      <th>829</th>\n",
       "      <td>Death and funeral of Prince Philip, Duke of Ed...</td>\n",
       "      <td>Death and funeral of Mary of Teck</td>\n",
       "      <td>0.997842</td>\n",
       "    </tr>\n",
       "    <tr>\n",
       "      <th>1636</th>\n",
       "      <td>Death and funeral of Alexandra of Denmark</td>\n",
       "      <td>Death and funeral of Mary of Teck</td>\n",
       "      <td>0.997609</td>\n",
       "    </tr>\n",
       "    <tr>\n",
       "      <th>1530</th>\n",
       "      <td>United Kingdom's accession to the European Com...</td>\n",
       "      <td>Platinum Jubilee of Elizabeth II</td>\n",
       "      <td>0.997490</td>\n",
       "    </tr>\n",
       "    <tr>\n",
       "      <th>1462</th>\n",
       "      <td>United Kingdom's accession to the European Com...</td>\n",
       "      <td>Republicanism in Britain</td>\n",
       "      <td>0.996920</td>\n",
       "    </tr>\n",
       "    <tr>\n",
       "      <th>1458</th>\n",
       "      <td>United Kingdom's accession to the European Com...</td>\n",
       "      <td>Philip Mountbatten</td>\n",
       "      <td>0.996188</td>\n",
       "    </tr>\n",
       "    <tr>\n",
       "      <th>1493</th>\n",
       "      <td>United Kingdom's accession to the European Com...</td>\n",
       "      <td>Coronation Oath</td>\n",
       "      <td>0.995963</td>\n",
       "    </tr>\n",
       "    <tr>\n",
       "      <th>1115</th>\n",
       "      <td>Head of the Commonwealth</td>\n",
       "      <td>United Kingdom's accession to the European Com...</td>\n",
       "      <td>0.995816</td>\n",
       "    </tr>\n",
       "    <tr>\n",
       "      <th>139</th>\n",
       "      <td>Operation Unicorn (Scotland)</td>\n",
       "      <td>Queen of the United Kingdom</td>\n",
       "      <td>0.994412</td>\n",
       "    </tr>\n",
       "    <tr>\n",
       "      <th>1424</th>\n",
       "      <td>United Kingdom's accession to the European Com...</td>\n",
       "      <td>Prince of Greece and Denmark</td>\n",
       "      <td>0.994143</td>\n",
       "    </tr>\n",
       "  </tbody>\n",
       "</table>\n",
       "</div>"
      ],
      "text/plain": [
       "                                                 Source  \\\n",
       "2752                                  Duke of Edinburgh   \n",
       "829   Death and funeral of Prince Philip, Duke of Ed...   \n",
       "1636          Death and funeral of Alexandra of Denmark   \n",
       "1530  United Kingdom's accession to the European Com...   \n",
       "1462  United Kingdom's accession to the European Com...   \n",
       "1458  United Kingdom's accession to the European Com...   \n",
       "1493  United Kingdom's accession to the European Com...   \n",
       "1115                           Head of the Commonwealth   \n",
       "139                        Operation Unicorn (Scotland)   \n",
       "1424  United Kingdom's accession to the European Com...   \n",
       "\n",
       "                                                 Target    Weight  \n",
       "2752                   Prince Edward, Duke of Edinburgh  0.999506  \n",
       "829                   Death and funeral of Mary of Teck  0.997842  \n",
       "1636                  Death and funeral of Mary of Teck  0.997609  \n",
       "1530                   Platinum Jubilee of Elizabeth II  0.997490  \n",
       "1462                           Republicanism in Britain  0.996920  \n",
       "1458                                 Philip Mountbatten  0.996188  \n",
       "1493                                    Coronation Oath  0.995963  \n",
       "1115  United Kingdom's accession to the European Com...  0.995816  \n",
       "139                         Queen of the United Kingdom  0.994412  \n",
       "1424                       Prince of Greece and Denmark  0.994143  "
      ]
     },
     "execution_count": 164,
     "metadata": {},
     "output_type": "execute_result"
    }
   ],
   "source": [
    "corr_el = pv_corr_gt.where(np.triu(np.ones(pv_corr_gt.shape),1).astype(bool)).stack()\n",
    "corr_el = corr_el.reset_index()\n",
    "corr_el.columns = ['Source','Target','Weight']\n",
    "corr_el.sort_values('Weight',ascending=False).head(10)"
   ]
  },
  {
   "cell_type": "markdown",
   "id": "6d6c6901",
   "metadata": {},
   "source": [
    "Turn the edgelist into a network `pv_corr_g`."
   ]
  },
  {
   "cell_type": "code",
   "execution_count": 165,
   "id": "3a18577e",
   "metadata": {},
   "outputs": [
    {
     "name": "stdout",
     "output_type": "stream",
     "text": [
      "There are 325 nodes in the article correlation network.\n",
      "There are 4,097 edges in the article correlation network.\n"
     ]
    }
   ],
   "source": [
    "pv_corr_g = nx.from_pandas_edgelist(\n",
    "    df = corr_el,\n",
    "    source = 'Source',\n",
    "    target = 'Target',\n",
    "    edge_attr = ['Weight']\n",
    ")\n",
    "\n",
    "print(\"There are {0:,} nodes in the article correlation network.\".format(pv_corr_g.number_of_nodes()))\n",
    "print(\"There are {0:,} edges in the article correlation network.\".format(pv_corr_g.number_of_edges()))"
   ]
  },
  {
   "cell_type": "markdown",
   "id": "3e95cf83",
   "metadata": {},
   "source": [
    "What's the density of the correlation network?"
   ]
  },
  {
   "cell_type": "code",
   "execution_count": 166,
   "id": "9556fdd1",
   "metadata": {},
   "outputs": [
    {
     "data": {
      "text/plain": [
       "0.07781576448243115"
      ]
     },
     "execution_count": 166,
     "metadata": {},
     "output_type": "execute_result"
    }
   ],
   "source": [
    "nx.density(pv_corr_g)"
   ]
  },
  {
   "cell_type": "markdown",
   "id": "3247b03d",
   "metadata": {},
   "source": [
    "Write `pv_corr_g` to a GEXF file to visualize in Gephi."
   ]
  },
  {
   "cell_type": "code",
   "execution_count": 174,
   "id": "7bcc05f5",
   "metadata": {},
   "outputs": [],
   "source": [
    "nx.write_gexf(pv_corr_g,'pageview_correlation.gexf')"
   ]
  }
 ],
 "metadata": {
  "kernelspec": {
   "display_name": "Python 3 (ipykernel)",
   "language": "python",
   "name": "python3"
  },
  "language_info": {
   "codemirror_mode": {
    "name": "ipython",
    "version": 3
   },
   "file_extension": ".py",
   "mimetype": "text/x-python",
   "name": "python",
   "nbconvert_exporter": "python",
   "pygments_lexer": "ipython3",
   "version": "3.9.13"
  }
 },
 "nbformat": 4,
 "nbformat_minor": 5
}
