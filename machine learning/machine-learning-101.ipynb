{
 "cells": [
  {
   "cell_type": "markdown",
   "id": "99eb15d4",
   "metadata": {},
   "source": [
    "# Machine Learning 101\n",
    "In this notebook, we'll go through a few examples that show you the process of training and testing a machine learning model.\n",
    "\n",
    "This notebook was created by Jordan Wirfs-Brock for CS215, and adapts some materials from LearnPythonWithRune's [Machine Learning With Python](https://github.com/LearnPythonWithRune/MachineLearningWithPython/blob/main/jupyter/final/01%20-%20Lesson%20-%20Linear%20Classifier.ipynb) series as well as Soham Medewar's [\"Visualizing Decision Boundary (Perceptron)\"](https://www.codingninjas.com/codestudio/library/visualizing-decision-boundary-perceptron) post."
   ]
  },
  {
   "cell_type": "markdown",
   "id": "69c56b92",
   "metadata": {},
   "source": [
    "### Making a Cat/Dog Classifier with Linear Perceptron"
   ]
  },
  {
   "cell_type": "code",
   "execution_count": 51,
   "id": "1c0fa5b1",
   "metadata": {},
   "outputs": [],
   "source": [
    "# Import packages\n",
    "import pandas as pd\n",
    "import numpy as np\n",
    "import matplotlib.pyplot as plt\n",
    "%matplotlib inline\n",
    "\n",
    "# These are from scikitlearn, a really popular machine learning library\n",
    "from sklearn.model_selection import train_test_split\n",
    "from sklearn.metrics import accuracy_score\n",
    "from sklearn.linear_model import Perceptron"
   ]
  },
  {
   "cell_type": "code",
   "execution_count": 52,
   "id": "517ef466",
   "metadata": {},
   "outputs": [
    {
     "data": {
      "text/html": [
       "<div>\n",
       "<style scoped>\n",
       "    .dataframe tbody tr th:only-of-type {\n",
       "        vertical-align: middle;\n",
       "    }\n",
       "\n",
       "    .dataframe tbody tr th {\n",
       "        vertical-align: top;\n",
       "    }\n",
       "\n",
       "    .dataframe thead th {\n",
       "        text-align: right;\n",
       "    }\n",
       "</style>\n",
       "<table border=\"1\" class=\"dataframe\">\n",
       "  <thead>\n",
       "    <tr style=\"text-align: right;\">\n",
       "      <th></th>\n",
       "      <th>Species</th>\n",
       "      <th>Length (in)</th>\n",
       "      <th>Weight (lbs)</th>\n",
       "      <th>Unnamed: 3</th>\n",
       "    </tr>\n",
       "  </thead>\n",
       "  <tbody>\n",
       "    <tr>\n",
       "      <th>0</th>\n",
       "      <td>cat</td>\n",
       "      <td>15</td>\n",
       "      <td>8</td>\n",
       "      <td>NaN</td>\n",
       "    </tr>\n",
       "    <tr>\n",
       "      <th>1</th>\n",
       "      <td>dog</td>\n",
       "      <td>37</td>\n",
       "      <td>52</td>\n",
       "      <td>NaN</td>\n",
       "    </tr>\n",
       "    <tr>\n",
       "      <th>2</th>\n",
       "      <td>dog</td>\n",
       "      <td>28</td>\n",
       "      <td>44</td>\n",
       "      <td>NaN</td>\n",
       "    </tr>\n",
       "    <tr>\n",
       "      <th>3</th>\n",
       "      <td>cat</td>\n",
       "      <td>11</td>\n",
       "      <td>6</td>\n",
       "      <td>NaN</td>\n",
       "    </tr>\n",
       "    <tr>\n",
       "      <th>4</th>\n",
       "      <td>cat</td>\n",
       "      <td>14</td>\n",
       "      <td>9</td>\n",
       "      <td>NaN</td>\n",
       "    </tr>\n",
       "  </tbody>\n",
       "</table>\n",
       "</div>"
      ],
      "text/plain": [
       "  Species  Length (in)  Weight (lbs) Unnamed: 3\n",
       "0     cat           15             8        NaN\n",
       "1     dog           37            52        NaN\n",
       "2     dog           28            44        NaN\n",
       "3     cat           11             6        NaN\n",
       "4     cat           14             9        NaN"
      ]
     },
     "execution_count": 52,
     "metadata": {},
     "output_type": "execute_result"
    }
   ],
   "source": [
    "# Import the data and example\n",
    "df = pd.read_csv('cats-dogs.csv')\n",
    "df.head()"
   ]
  },
  {
   "cell_type": "code",
   "execution_count": 64,
   "id": "468122de",
   "metadata": {},
   "outputs": [],
   "source": [
    "# Drop any missing values, only select the columns we want\n",
    "dataset = df[['Species','Length (in)', 'Weight (lbs)']].dropna()"
   ]
  },
  {
   "cell_type": "code",
   "execution_count": 54,
   "id": "fd764a76",
   "metadata": {},
   "outputs": [],
   "source": [
    "# Split into X, the inputs and y, the outputs (labels)\n",
    "X = dataset[['Length (in)', 'Weight (lbs)']] # Select the X values (the inputs/observations)\n",
    "y = dataset['Species'] # Select the Y values (the outputs/labels)"
   ]
  },
  {
   "cell_type": "code",
   "execution_count": 55,
   "id": "a6794895",
   "metadata": {},
   "outputs": [],
   "source": [
    "# Convert the species labels (y) into 0 for cat and 1 for dog\n",
    "y = np.array([0 if value == 'cat' else 1 for value in y])"
   ]
  },
  {
   "cell_type": "code",
   "execution_count": 56,
   "id": "421c1060",
   "metadata": {},
   "outputs": [],
   "source": [
    "# Split into testing and training data\n",
    "# We will use the training data to fit our model\n",
    "# Then we will use the testing data to see how well it predicts the species\n",
    "X_train, X_test, y_train, y_test = train_test_split(X, y, random_state=0)"
   ]
  },
  {
   "cell_type": "code",
   "execution_count": 57,
   "id": "9a9c59a4",
   "metadata": {},
   "outputs": [
    {
     "data": {
      "text/plain": [
       "0.8888888888888888"
      ]
     },
     "execution_count": 57,
     "metadata": {},
     "output_type": "execute_result"
    }
   ],
   "source": [
    "# Create our classifier, called clf, using a \"Perceptron\"\n",
    "# More about perceptrons: https://en.wikipedia.org/wiki/Perceptron\n",
    "clf = Perceptron(random_state=0)\n",
    "\n",
    "# Fit the model to the training data\n",
    "clf.fit(X_train, y_train)\n",
    "\n",
    "# Predict the values of the testing data\n",
    "y_pred = clf.predict(X_test)\n",
    "\n",
    "# Compute the accuracy score (does the predicted value the actual value?)\n",
    "accuracy_score(y_test, y_pred)"
   ]
  },
  {
   "cell_type": "markdown",
   "id": "629a42ed",
   "metadata": {},
   "source": [
    "Pretty good! We predicted right 88.9% of the time!"
   ]
  },
  {
   "cell_type": "code",
   "execution_count": 58,
   "id": "253a4945",
   "metadata": {},
   "outputs": [
    {
     "name": "stderr",
     "output_type": "stream",
     "text": [
      "/Users/wirfsbrj/opt/anaconda3/lib/python3.9/site-packages/sklearn/base.py:450: UserWarning: X does not have valid feature names, but Perceptron was fitted with feature names\n",
      "  warnings.warn(\n"
     ]
    },
    {
     "data": {
      "image/png": "[encoded data removed]",
      "text/plain": [
       "<Figure size 640x480 with 1 Axes>"
      ]
     },
     "metadata": {},
     "output_type": "display_data"
    }
   ],
   "source": [
    "# Now let's plot it:\n",
    "\n",
    "# First the data, colored by dog/cat:\n",
    "fig, ax = plt.subplots()\n",
    "X_data = X.to_numpy()\n",
    "y_all = clf.predict(X_data)\n",
    "ax.scatter(x=X_data[:,0], y=X_data[:,1], c=y_all, alpha=.25)\n",
    "\n",
    "# Next the decision boundary, which is a line\n",
    "ymin, ymax = 0,72\n",
    "w = clf.coef_[0]\n",
    "# Calculate the slope based on the weights of the model\n",
    "a = -w[0] / w[1]\n",
    "xx = np.linspace(ymin, ymax)\n",
    "yy = a * xx - (clf.intercept_[0]) / w[1]\n",
    "plt.plot(xx, yy, 'k-')\n",
    "ax.set_xlabel('Length (in)')\n",
    "ax.set_ylabel('Weight (lbs)')\n",
    "plt.show()\n"
   ]
  },
  {
   "cell_type": "code",
   "execution_count": 59,
   "id": "326e7731",
   "metadata": {},
   "outputs": [
    {
     "data": {
      "text/html": [
       "<div>\n",
       "<style scoped>\n",
       "    .dataframe tbody tr th:only-of-type {\n",
       "        vertical-align: middle;\n",
       "    }\n",
       "\n",
       "    .dataframe tbody tr th {\n",
       "        vertical-align: top;\n",
       "    }\n",
       "\n",
       "    .dataframe thead th {\n",
       "        text-align: right;\n",
       "    }\n",
       "</style>\n",
       "<table border=\"1\" class=\"dataframe\">\n",
       "  <thead>\n",
       "    <tr style=\"text-align: right;\">\n",
       "      <th></th>\n",
       "      <th>Length (in)</th>\n",
       "      <th>Weight (lbs)</th>\n",
       "    </tr>\n",
       "  </thead>\n",
       "  <tbody>\n",
       "    <tr>\n",
       "      <th>11</th>\n",
       "      <td>8</td>\n",
       "      <td>4</td>\n",
       "    </tr>\n",
       "    <tr>\n",
       "      <th>20</th>\n",
       "      <td>8</td>\n",
       "      <td>6</td>\n",
       "    </tr>\n",
       "    <tr>\n",
       "      <th>24</th>\n",
       "      <td>17</td>\n",
       "      <td>18</td>\n",
       "    </tr>\n",
       "    <tr>\n",
       "      <th>17</th>\n",
       "      <td>33</td>\n",
       "      <td>40</td>\n",
       "    </tr>\n",
       "    <tr>\n",
       "      <th>2</th>\n",
       "      <td>28</td>\n",
       "      <td>44</td>\n",
       "    </tr>\n",
       "    <tr>\n",
       "      <th>25</th>\n",
       "      <td>24</td>\n",
       "      <td>30</td>\n",
       "    </tr>\n",
       "    <tr>\n",
       "      <th>26</th>\n",
       "      <td>30</td>\n",
       "      <td>28</td>\n",
       "    </tr>\n",
       "    <tr>\n",
       "      <th>16</th>\n",
       "      <td>17</td>\n",
       "      <td>13</td>\n",
       "    </tr>\n",
       "    <tr>\n",
       "      <th>10</th>\n",
       "      <td>4</td>\n",
       "      <td>3</td>\n",
       "    </tr>\n",
       "  </tbody>\n",
       "</table>\n",
       "</div>"
      ],
      "text/plain": [
       "    Length (in)  Weight (lbs)\n",
       "11            8             4\n",
       "20            8             6\n",
       "24           17            18\n",
       "17           33            40\n",
       "2            28            44\n",
       "25           24            30\n",
       "26           30            28\n",
       "16           17            13\n",
       "10            4             3"
      ]
     },
     "execution_count": 59,
     "metadata": {},
     "output_type": "execute_result"
    }
   ],
   "source": [
    "X_test"
   ]
  },
  {
   "cell_type": "code",
   "execution_count": 60,
   "id": "91e91231",
   "metadata": {},
   "outputs": [
    {
     "data": {
      "text/plain": [
       "array([0, 1, 1, 1, 1, 1, 1, 1, 0])"
      ]
     },
     "execution_count": 60,
     "metadata": {},
     "output_type": "execute_result"
    }
   ],
   "source": [
    "# Look at the **predicted** values\n",
    "y_pred"
   ]
  },
  {
   "cell_type": "code",
   "execution_count": 61,
   "id": "65f5c4df",
   "metadata": {},
   "outputs": [
    {
     "data": {
      "text/plain": [
       "array([0, 1, 1, 1, 1, 1, 1, 0, 0])"
      ]
     },
     "execution_count": 61,
     "metadata": {},
     "output_type": "execute_result"
    }
   ],
   "source": [
    "# Look at the actual values\n",
    "y_test"
   ]
  },
  {
   "cell_type": "code",
   "execution_count": 63,
   "id": "7ff3e011",
   "metadata": {},
   "outputs": [
    {
     "data": {
      "text/plain": [
       "array([[-21.,  29.]])"
      ]
     },
     "execution_count": 63,
     "metadata": {},
     "output_type": "execute_result"
    }
   ],
   "source": [
    "# We can also look at the \"weights\" (the coefficients of the line)\n",
    "clf.coef_"
   ]
  }
 ],
 "metadata": {
  "kernelspec": {
   "display_name": "Python 3 (ipykernel)",
   "language": "python",
   "name": "python3"
  },
  "language_info": {
   "codemirror_mode": {
    "name": "ipython",
    "version": 3
   },
   "file_extension": ".py",
   "mimetype": "text/x-python",
   "name": "python",
   "nbconvert_exporter": "python",
   "pygments_lexer": "ipython3",
   "version": "3.9.13"
  }
 },
 "nbformat": 4,
 "nbformat_minor": 5
}
