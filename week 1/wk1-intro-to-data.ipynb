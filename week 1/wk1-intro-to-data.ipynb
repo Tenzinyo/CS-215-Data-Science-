{
 "cells": [
  {
   "cell_type": "markdown",
   "id": "c9ae1724",
   "metadata": {},
   "source": [
    "## Part 1: A quick tour of Jupyter notebooks"
   ]
  },
  {
   "cell_type": "markdown",
   "id": "ea3aee7d",
   "metadata": {},
   "source": [
    "theklfbleri"
   ]
  },
  {
   "cell_type": "code",
   "execution_count": 11,
   "id": "5be81add",
   "metadata": {},
   "outputs": [],
   "source": [
    "# Basic \"unit\" is a cell"
   ]
  },
  {
   "cell_type": "markdown",
   "id": "b45c6668",
   "metadata": {},
   "source": [
    "Cells can be code or text (markdown)"
   ]
  },
  {
   "cell_type": "code",
   "execution_count": 12,
   "id": "38761242",
   "metadata": {},
   "outputs": [],
   "source": [
    "# How do we execute a line of code?"
   ]
  },
  {
   "cell_type": "code",
   "execution_count": 22,
   "id": "18129106",
   "metadata": {},
   "outputs": [],
   "source": [
    "def odd(number):\n",
    "    if (number%2 !=0):\n",
    "        print(number)\n",
    "    else:\n",
    "        print(\"not odd number\")"
   ]
  },
  {
   "cell_type": "code",
   "execution_count": 25,
   "id": "36bab18f",
   "metadata": {},
   "outputs": [
    {
     "name": "stdout",
     "output_type": "stream",
     "text": [
      "not odd number\n"
     ]
    }
   ],
   "source": [
    "odd(0)"
   ]
  },
  {
   "cell_type": "code",
   "execution_count": 13,
   "id": "ba4ecd13",
   "metadata": {},
   "outputs": [
    {
     "data": {
      "text/plain": [
       "6"
      ]
     },
     "execution_count": 13,
     "metadata": {},
     "output_type": "execute_result"
    }
   ],
   "source": [
    "# TODO: Write some code to compute the value of 3+3\n",
    "3+3\n",
    "\n",
    "# We can store variables"
   ]
  },
  {
   "cell_type": "code",
   "execution_count": 19,
   "id": "346bf16d",
   "metadata": {},
   "outputs": [],
   "source": [
    "# TODO: Make a variable called myDog and assign it the value \"Laika\"\n",
    "myDog= \"Laika\""
   ]
  },
  {
   "cell_type": "code",
   "execution_count": 20,
   "id": "0a946f29",
   "metadata": {},
   "outputs": [
    {
     "data": {
      "text/plain": [
       "'Laika'"
      ]
     },
     "execution_count": 20,
     "metadata": {},
     "output_type": "execute_result"
    }
   ],
   "source": [
    "myDog"
   ]
  },
  {
   "cell_type": "code",
   "execution_count": 21,
   "id": "3cc884bd",
   "metadata": {},
   "outputs": [
    {
     "name": "stdout",
     "output_type": "stream",
     "text": [
      "Laika\n"
     ]
    }
   ],
   "source": [
    "# We can view the variable directly, or print it out\n",
    "print(myDog)"
   ]
  },
  {
   "cell_type": "code",
   "execution_count": 17,
   "id": "161c3e83",
   "metadata": {},
   "outputs": [
    {
     "ename": "NameError",
     "evalue": "name 'is_my_dog_awesome' is not defined",
     "output_type": "error",
     "traceback": [
      "\u001b[0;31m---------------------------------------------------------------------------\u001b[0m",
      "\u001b[0;31mNameError\u001b[0m                                 Traceback (most recent call last)",
      "Cell \u001b[0;32mIn[17], line 1\u001b[0m\n\u001b[0;32m----> 1\u001b[0m \u001b[43mis_my_dog_awesome\u001b[49m(\u001b[38;5;124m\"\u001b[39m\u001b[38;5;124mJacky\u001b[39m\u001b[38;5;124m\"\u001b[39m)\n",
      "\u001b[0;31mNameError\u001b[0m: name 'is_my_dog_awesome' is not defined"
     ]
    }
   ],
   "source": [
    "is_my_dog_awesome(\"Jacky\")"
   ]
  },
  {
   "cell_type": "code",
   "execution_count": null,
   "id": "5cd227c9",
   "metadata": {},
   "outputs": [],
   "source": [
    "# We can also write functions and execute them\n",
    "\n",
    "# TODO: Write a function that accepts a string and then does something, anything, with it\n",
    "def is_my_dog_awesome(dog):\n",
    "    if dog==\"Laika\":\n",
    "        print(\"yes\")\n",
    "    else:\n",
    "        print(\"idk\")\n",
    "        "
   ]
  },
  {
   "cell_type": "code",
   "execution_count": 63,
   "id": "cbd41218",
   "metadata": {},
   "outputs": [
    {
     "data": {
      "text/plain": [
       "dict_keys(['f', 't'])"
      ]
     },
     "execution_count": 63,
     "metadata": {},
     "output_type": "execute_result"
    }
   ],
   "source": [
    "# TODO: Write code that calls the function you just wrote and passes in the variable myDog\n",
    "is_my_dog_awesome= {\"f\":\"Tu\", \"t\": \"ahsuiegd\"}\n",
    "\n",
    "(is_my_dog_awesome.keys())\n"
   ]
  },
  {
   "cell_type": "code",
   "execution_count": null,
   "id": "1acf30e9",
   "metadata": {},
   "outputs": [],
   "source": [
    "# Remember...\n",
    "# Order matters!\n",
    "# You can execute a single cell, or run them all...\n",
    "# You can also MOVE cells around... or insert cells anywhere\n",
    "# And you can split cells...or merge them\n",
    "# It can all get confusing... if you need a reset, you can always restart your Kernel"
   ]
  },
  {
   "cell_type": "code",
   "execution_count": null,
   "id": "e1c10be3",
   "metadata": {},
   "outputs": [],
   "source": [
    "# And we can import packages\n",
    "# This can be packages we write ourselves, i.e. a .py file\n",
    "# Or it can be packages we have installed on our computer (a bunch came with Anaconda)\n",
    "# We'll be using numpy and pandas to start\n",
    "\n",
    "# TODO: Write the code you need to import Numpy and Pandas\n",
    "# Note: np and pd are shorthand, and they are conventions (you could call them whatever you want)\n",
    "import numpy as np\n",
    "import pandas as pd\n",
    "np_baseball=100\n",
    "np_football=50\n",
    "#np_baseball=np.array(np_baseball)\n",
    "#np_football=np.array(np_football)\n",
    "np_sports= np_baseball*np_football\n",
    "print(np_sports)"
   ]
  },
  {
   "cell_type": "markdown",
   "id": "62a4ca12",
   "metadata": {},
   "source": [
    "Note: I'll only be showing you some of the things Pandas can do -- to explore, **read the docs**!\n",
    "\n",
    "Keep the [documentation](https://pandas.pydata.org/docs/index.html) handy. And remember, usually there are many, many ways to accomplish something."
   ]
  },
  {
   "cell_type": "markdown",
   "id": "6e538b4b",
   "metadata": {},
   "source": [
    "## Part 2: Let's get some data!"
   ]
  },
  {
   "cell_type": "markdown",
   "id": "1d2b8cf2",
   "metadata": {},
   "source": [
    "### Let's import some data!\n",
    "We'll be using data about the **cost of launching stuff into space** over time. It comes from [Our World in Data](https://ourworldindata.org/grapher/cost-space-launches-low-earth-orbit).\n",
    "\n",
    "Go check out this link (always always seek out the source!). What do you notice?"
   ]
  },
  {
   "cell_type": "code",
   "execution_count": null,
   "id": "0d4a526f",
   "metadata": {},
   "outputs": [],
   "source": [
    "# Let's load in the data, which is in the form of a CSV file\n",
    "import pandas as pd\n",
    "# TODO: Write a line of code to import \"cost-space-lauches.csv\" and save it as a DataFrame called df_launch\n",
    "# Note: Where is your CSV file, and do you have the correct file path?\n",
    "df_launch= pd.read_csv(\"cost-space-launches.csv\")"
   ]
  },
  {
   "cell_type": "code",
   "execution_count": null,
   "id": "a060a92d",
   "metadata": {},
   "outputs": [],
   "source": [
    "# Now let's look at it\n",
    "# What do you notice?\n",
    "df_launch"
   ]
  },
  {
   "cell_type": "code",
   "execution_count": null,
   "id": "ac3b050e",
   "metadata": {},
   "outputs": [],
   "source": [
    "# How many columns? What are they?\n",
    "# How many rows? What does each row represent?\n",
    "\n",
    "# TODO: Write a line of code that displays the header\n",
    "# TODO: Write a line of code that displays the first 10 rows"
   ]
  },
  {
   "cell_type": "code",
   "execution_count": null,
   "id": "54a20f5a",
   "metadata": {},
   "outputs": [],
   "source": []
  },
  {
   "cell_type": "code",
   "execution_count": null,
   "id": "871b9914",
   "metadata": {},
   "outputs": [],
   "source": [
    "# Let's get a summary\n",
    "df_launch.describe()\n",
    "#decsribes a data along with its count, mean, std, min and quartiles."
   ]
  },
  {
   "cell_type": "code",
   "execution_count": null,
   "id": "8469182c",
   "metadata": {},
   "outputs": [],
   "source": [
    "# How do we select a single column?\n",
    "df_launch.head(1)\n",
    "#another way\n",
    "column=df_launch[\"Entity\"]\n"
   ]
  },
  {
   "cell_type": "code",
   "execution_count": null,
   "id": "a61b878b",
   "metadata": {},
   "outputs": [],
   "source": [
    "# How do we select a single row?\n",
    "#row=df_launch.iloc[2]\n",
    "#another way\n",
    "df_launch[\"Year\"][2]\n"
   ]
  },
  {
   "cell_type": "code",
   "execution_count": null,
   "id": "85ace8e1",
   "metadata": {},
   "outputs": [],
   "source": [
    "# And how do we select value within the Year column?\n",
    "df_launch[\"Year\"]"
   ]
  },
  {
   "cell_type": "code",
   "execution_count": null,
   "id": "00b7a3c9",
   "metadata": {},
   "outputs": [],
   "source": [
    "# TODO: Write a line of code to get the cost_per_kg colum\n"
   ]
  },
  {
   "cell_type": "code",
   "execution_count": null,
   "id": "75df964e",
   "metadata": {},
   "outputs": [],
   "source": [
    "# TODO: Write a line of code to get the 5th row\n"
   ]
  },
  {
   "cell_type": "code",
   "execution_count": null,
   "id": "90b42663",
   "metadata": {
    "scrolled": true
   },
   "outputs": [],
   "source": [
    "# TODO: Write some code to get the launch_class of the 3rd row\n"
   ]
  },
  {
   "cell_type": "code",
   "execution_count": null,
   "id": "10f705f7",
   "metadata": {},
   "outputs": [],
   "source": [
    "# Now, what TYPES are they?\n",
    "# Type of the cost_per_kg column\n",
    "print(type(df_launch[\"cost_per_kg\"]))"
   ]
  },
  {
   "cell_type": "code",
   "execution_count": null,
   "id": "f2221c77",
   "metadata": {},
   "outputs": [],
   "source": [
    "# Type of the 5th row\n",
    "print(type(df_launch.iloc[5]))"
   ]
  },
  {
   "cell_type": "code",
   "execution_count": null,
   "id": "c56b3ec8",
   "metadata": {},
   "outputs": [],
   "source": [
    "# Type of the launch_class of the 3rd row\n",
    "#print(type(df_launch.iloc[3]))\n",
    "type(df_launch[\"launch_class\"][3])"
   ]
  },
  {
   "cell_type": "code",
   "execution_count": null,
   "id": "12733b5b",
   "metadata": {},
   "outputs": [],
   "source": [
    "# Series are 1-dimensional arrays (basically lists)\n",
    "# Invidiaul values (cells) can be any data type (strings, integers, floating points, even lists)"
   ]
  },
  {
   "cell_type": "code",
   "execution_count": null,
   "id": "521b4cb9",
   "metadata": {},
   "outputs": [],
   "source": [
    "# TODO: What (Python) types are the values in the other columns? \n",
    "# We can iterate over the columns in a dataframe!\n",
    "for column in df_launch:\n",
    "    print(column)\n",
    "    print(type(df_launch[column][0]))"
   ]
  },
  {
   "cell_type": "code",
   "execution_count": null,
   "id": "56d659ce",
   "metadata": {},
   "outputs": [],
   "source": [
    "# There's also an easy-peasy built in way with pandas using .dtypes...\n",
    "df_launch.dtypes"
   ]
  },
  {
   "cell_type": "code",
   "execution_count": null,
   "id": "481a51af",
   "metadata": {},
   "outputs": [],
   "source": [
    "# Are you loving pandas yet??\n",
    "# Another built in trick pandas has is .info()... let's try it\n",
    "df_launch.info()\n",
    "# info() tells how many non-empty cells are"
   ]
  },
  {
   "cell_type": "code",
   "execution_count": null,
   "id": "f1bd533f",
   "metadata": {},
   "outputs": [],
   "source": [
    "# What's going on with that \"Code\" column?\n",
    "# It has NaN (Not a Number) as all its values -- this means missing data!"
   ]
  },
  {
   "cell_type": "code",
   "execution_count": null,
   "id": "5d86db96",
   "metadata": {},
   "outputs": [],
   "source": [
    "type(\"Nan\")"
   ]
  },
  {
   "cell_type": "code",
   "execution_count": null,
   "id": "574d62cb",
   "metadata": {},
   "outputs": [],
   "source": [
    "# TODO: Make a new data frame that just has the columns we want (no Code column)\n",
    "# We can select a specific subset of columns in a dataframe using a list of column names\n",
    "new_df= df_launch[[\"Entity\",\"Year\",\"cost_per_kg\",\"launch_class\"]]\n",
    "new_df"
   ]
  },
  {
   "cell_type": "code",
   "execution_count": null,
   "id": "747b09fe",
   "metadata": {},
   "outputs": [],
   "source": [
    "# How do we count the values of the launch class?\n",
    "new_df[\"launch_class\"].value_counts"
   ]
  },
  {
   "cell_type": "code",
   "execution_count": null,
   "id": "7e8d5196",
   "metadata": {},
   "outputs": [],
   "source": [
    "# How would be convert cost per kilogram to cost per pound?\n",
    "# TODO: Let's make a new column and do that...\n",
    "# Remember, 1 kg = 2.2 pounds (lbs)\n",
    "new_df[\"cost_per_lb\"]=new_df[\"cost_per_kg\"]/2.2\n",
    "new_df"
   ]
  },
  {
   "cell_type": "code",
   "execution_count": null,
   "id": "e0d39620",
   "metadata": {},
   "outputs": [],
   "source": []
  },
  {
   "cell_type": "code",
   "execution_count": null,
   "id": "7eb71adf",
   "metadata": {},
   "outputs": [],
   "source": [
    "# TODO: How do we sort to see what mission cost the most (per weight)? The least?\n",
    "new_df[\"cost_per_kg\"].sort_values(ascending=False)\n"
   ]
  },
  {
   "cell_type": "code",
   "execution_count": null,
   "id": "fd05731c",
   "metadata": {},
   "outputs": [],
   "source": [
    "# Notice that this doesn't change the dataframe...\n"
   ]
  },
  {
   "cell_type": "code",
   "execution_count": null,
   "id": "18fc3ba5",
   "metadata": {},
   "outputs": [],
   "source": [
    "# We can save the sorted dataframe as itself, or as a new one\n"
   ]
  },
  {
   "cell_type": "markdown",
   "id": "b24e5c4a",
   "metadata": {},
   "source": [
    "## Part 3: CHALLENGE (if you finish early): \n",
    "Go to [Our World in Data](https://ourworldindata.org/) and find a data set that interests you.\n",
    "\n",
    "Download the CSV file.\n",
    "\n",
    "Load it into this notebook.\n",
    "\n",
    "(1) What do you notice about how the data is organized?\n",
    "\n",
    "(2) Can you sort the data in an interesting day?\n",
    "\n",
    "(3) Can you calculate a new column that is useful?"
   ]
  },
  {
   "cell_type": "code",
   "execution_count": null,
   "id": "ec8b573f",
   "metadata": {},
   "outputs": [],
   "source": [
    "# TODO: Your code here...."
   ]
  },
  {
   "cell_type": "markdown",
   "id": "95ae5e07",
   "metadata": {},
   "source": [
    "### At the end of class, make sure to upload this .ipynb file to Canvas and submit the check in!"
   ]
  }
 ],
 "metadata": {
  "kernelspec": {
   "display_name": "Python 3 (ipykernel)",
   "language": "python",
   "name": "python3"
  },
  "language_info": {
   "codemirror_mode": {
    "name": "ipython",
    "version": 3
   },
   "file_extension": ".py",
   "mimetype": "text/x-python",
   "name": "python",
   "nbconvert_exporter": "python",
   "pygments_lexer": "ipython3",
   "version": "3.9.13"
  }
 },
 "nbformat": 4,
 "nbformat_minor": 5
}
